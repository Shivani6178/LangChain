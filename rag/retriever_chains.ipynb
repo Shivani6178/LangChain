{
 "cells": [
  {
   "cell_type": "code",
   "execution_count": 2,
   "metadata": {},
   "outputs": [
    {
     "data": {
      "text/plain": [
       "[Document(metadata={'source': 'mental_health.pdf', 'page': 0}, page_content='Mental Health\\nis for Everyone\\nPromoting Mental Health In Adults\\n'),\n",
       " Document(metadata={'source': 'mental_health.pdf', 'page': 1}, page_content='Mental Health is for Everyone2This resource is to promote \\nmental health.\\nFor crisis help:\\n•Call 911 \\n•Visit your nearest hospital emergency department\\nWhat’s Inside\\nWhat is mental health and mental illness ............................ 3\\nMental health and mental illness diagram .......................... 5\\nTransition and life events ........................................................... 6\\nMental health and mental illness examples ....................... 7\\nProtective and risk factor ........................................................... 10\\nWhat supports mental health? ................................................ 12\\nThings you can do right now to improve                              your mental health\\n....................................................................... 14'),\n",
       " Document(metadata={'source': 'mental_health.pdf', 'page': 2}, page_content='Mental Health is for Everyone3What is mental health?\\nGood mental health is important for everyone as it helps us \\ncope with life’s stresses and reach our goals. Mental health is about how we think, feel and act. When our mental health is good it helps us to get the most out of life. \\nWe all have highs and lows in our mental health. A low period \\ndoes not mean you have a mental illness. It’s normal to have feelings like anger, sadness or anxiety when facing challenges.\\nWhat is mental illness?\\nThere is a difference between mental health and mental illness. A mental illness is when a person is diagnosed with a problem that alters their thinking, mood and/or behaviour. Illnesses are linked to times when a person is distressed and their ability to function well has changed. Examples of mental illness include depression and anxiety disorder. \\nWhether or not you have an illness, knowing about mental \\nhealth and how to keep mentally healthy is important for everyone. We can all improve our mental health.'),\n",
       " Document(metadata={'source': 'mental_health.pdf', 'page': 3}, page_content='Mental Health is for Everyone41 in 5 people will have a\\nmental illness in their lifetime.\\n4 out of 5 won’t but this\\ndoesn’t mean they aredoing well mentally.\\n'),\n",
       " Document(metadata={'source': 'mental_health.pdf', 'page': 4}, page_content='Mental Health is for Everyone5\\nMental health can be gained and lost each day through our \\ninteractions, relationships and how we behave towards one another. A person may not have a mental illness but can still have poor mental health. As well, a person can have a mental illness but have good mental health. The diagram below shows how it can vary.\\nGood Men\\ntal Health\\nA person with good mental health and no mental illnessA person with good mental health and a mental illness\\nNo Mental Illness\\nA person with \\nno mental illness but poor mental health Serious Mental Illness\\nA person with a mental illness and poor mental health\\nPoor Mental Health\\n(Adapted from Centre for Addiction and Mental Health, 2014)\\n'),\n",
       " Document(metadata={'source': 'mental_health.pdf', 'page': 5}, page_content='Mental Health is for Everyone6Transition and life events\\nThere are certain times in our lives when our mental health \\nmay be more vulnerable. Some of these times are known as “transitions” and the others are “life events” .\\nTransitions \\n•Graduating school and going to post-secondary \\neducation or work\\n•Moving out on your own \\n•Pregnancy and becoming a parent\\n•Later in life with changes to family structure and retiring from work\\nLife events•Being unemployed, underemployed or experiencing work stress\\n•Experiencing loss, death of a loved one or getting divorced\\n•Having to care for someone who is dependent on you \\n•Immigrating to a new country \\n•Developing a chronic illness\\n•Experiencing and/or witnessing abuse, bullying, discrimination or violence\\nBy taking care of our mental health we can reducethe chance of de\\nveloping a mental health problem.'),\n",
       " Document(metadata={'source': 'mental_health.pdf', 'page': 6}, page_content='Mental Health is for Everyone7Here are some examples of how a person’s mental health can \\nvary:\\nMark When Mark started \\ncollege he was eager to leave home and become independent.\\nBy mid-semester Mark was \\nstruggling to keep up with his course work and he stopped going out with his friends. His parents noticed his mood had changed when he came home for the weekend. They talked with him about it and together they made a plan to visit their family doctor.\\nMark was diagnosed with \\nan anxiety disorder and got treatment. He is now able to manage his school work and spend time with his friends. \\n'),\n",
       " Document(metadata={'source': 'mental_health.pdf', 'page': 7}, page_content='Mental Health is for Everyone8\\nJessica\\nWhen Jessica became a new \\nmom she was very excited and happy. \\nWithin a few weeks Jessica was \\nvery tired from lack of sleep and feeling a little overwhelmed. Jessica’s friend noticed this and talked to her. Together they made a plan which included help from her family and friends with meals and housework.\\nWith the support of her friends \\nand family Jessica is now taking time for herself and feeling like she can manage her new role.\\n'),\n",
       " Document(metadata={'source': 'mental_health.pdf', 'page': 8}, page_content='Mental Health is for Everyone9\\nBill\\nIn his 20’s, Bill was diagnosed \\nand treated for depression and recovered. \\nBill recently lost his job with a \\ncompany he had worked at for the past 25 years. He is angry, having trouble sleeping and drinking heavily. Bill has started to have thoughts of suicide. \\nBill remembers from his previous \\nepisode of depression that there is help available and decides to call the local crisis line.   \\n'),\n",
       " Document(metadata={'source': 'mental_health.pdf', 'page': 9}, page_content='Mental Health is for Everyone10\\nProtective and risk factors\\nThere are things that can protect our mental health and things \\nthat put it at risk. Protective factors buffer a person and help reduce the chance of developing a problem. Risk factors make it more likely that a person will develop a problem.\\nProtective\\nFactors:Feeling like\\nyou belong\\nHaving\\ngood\\nphysical\\nhealth\\nBeing able\\nto solve\\nproblems\\nHaving\\nyour basic\\nneeds met\\n(safe housing,\\nstable\\nincome) Feeling in\\ncontrol of\\nyour lifeSpending\\ntime with\\npeople\\nyou enjoy \\n'),\n",
       " Document(metadata={'source': 'mental_health.pdf', 'page': 10}, page_content='Mental Health is for Everyone11\\nRisk\\nFactors\\nTraumatic\\nlife experienceChildhood\\ntrauma \\nHaving a\\nparent witha mental healthproblem orillnessHaving alcohol,drug and/orgamblingproblemsBeingisolatedand orfeelingalone \\nSome risk factors may be outside of your control, but, \\nthere are always steps you can take to reduce their effect. \\nThe key to improving mental health is to increase protective factors.'),\n",
       " Document(metadata={'source': 'mental_health.pdf', 'page': 11}, page_content='Mental Health is for Everyone12What supports mental health?\\nResiliency\\nEveryone can improve their \\nmental health by building their resilience. Resiliency is the ability to handle life’s ups and downs in positive ways and to bounce back from hard times. Making it through life’s challenges strengthens our ability to handle future stressors.\\nPhysical Health\\nMental health and physical \\nhealth are closely linked.  Long-term stress can cause health problems. Also, having a chronic illness can impact mental health. Maintaining or improving our physical health benefits overall health.'),\n",
       " Document(metadata={'source': 'mental_health.pdf', 'page': 12}, page_content='Mental Health is for Everyone13\\nEmotional Well-Being\\nWe all have many emotions. \\nPositive emotions support our mental health. When we are able to manage, express and use our emotions well, it can improve our health. \\nHealthy Coping\\nOur bodies are able to respond better to stress when we practice healthy coping. Choosing unhealthy coping methods can be harmful to your health and hinder your ability to deal with stress. \\nPositive Thinking\\nAt times, it can be a challenge to have a positive outlook when dealing with transitions and life events. Optimistic thinking has been shown to enhance our overall health.   Try to focus on the positives. Think of the things you can control and then make a plan to improve them. '),\n",
       " Document(metadata={'source': 'mental_health.pdf', 'page': 13}, page_content='Mental Health is for Everyone14Things you can do right now\\nto improve your mental health:\\nTip\\n#1\\nEat a healthy diet\\nUsing Canada’s Food \\nGuide will benefit your health. Have breakfast every day. Eat more vegetables and fruit. Drink water to quench your thirst. While grocery shopping read the Nutrition Facts table on food labels to eat healthier.\\nTip\\n#2\\nBe active\\nAdults ages 18-65+ need at least 150 minutes of physical activity each week. It can help you to feel good, reduce stress, maintain a healthier weight and lower your risk for illness. Try things that fit into your life like going for a walk, a bike ride, jogging or swimming. \\n'),\n",
       " Document(metadata={'source': 'mental_health.pdf', 'page': 14}, page_content='Mental Health is for Everyone15\\nTip\\n#3\\nGet enough sleep\\nSleep provides a time for \\nour bodies and minds to rest and restore. While needs can vary across the ages, aim to get 7-9 hours of sleep each night. Some things that may help include: having a regular routine, avoiding caffeine and alcohol, winding down with a good book or bath and keeping your room dark, cool and electronic free. \\nTip\\n#4\\nOffer to help\\nsomeone else\\nHelping others \\nbenefits you too. It can increase your feelings of well-being and being connected. Find out where there’s a need close to you (e.g. volunteer at your child’s school or a senior’s home or help a neighbour). \\n'),\n",
       " Document(metadata={'source': 'mental_health.pdf', 'page': 15}, page_content='Mental Health is for Everyone16\\nTip\\n#5\\nGet involved\\nand be creative\\nTaking part in local \\nprograms gives you a chance to create, express and connect with others. Getting involved has benefits for you and your community. Share your talents and find out what’s going on in your community (e.g. community gardens, art/ cultural events and festivals). \\nTip\\n#6\\nReview what\\nmatters to you \\nFinding purpose \\nand meaning in life promotes positive mental health. It can be a source of strength, inspiration, a means of coping with life and personal growth. This may include spiritual beliefs, religious practices, worship and/or other activities that have meaning. Take time to review what matters to you and find ways to celebrate life. \\n'),\n",
       " Document(metadata={'source': 'mental_health.pdf', 'page': 16}, page_content='Mental Health is for Everyone17\\nTip\\n#7\\nManage work stress\\nWhile work benefits our \\nmental health in many ways, it can also be a source of stress. Some things that can help manage work stress are: thinking positively, getting to know your co-workers, finding a mentor, taking your breaks, getting training, learning new skills and trying to leave work on time. \\nTip\\n#8\\nBuild and enjoy\\nhealthy relationships\\nHaving healthy \\nrelationships with a partner, family member, friend and/or co-worker can be a source of support when we feel stressed. These relationships can provide us with feelings of love, value and respect. Consider going for a coffee or a walk with a friend. Sometimes relationships can be a source of stress. It may be helpful to think of conflict as a normal part of life and try to take steps to resolve it. \\n'),\n",
       " Document(metadata={'source': 'mental_health.pdf', 'page': 17}, page_content='Mental Health is for Everyone18Most people do a good job of taking care of their mental \\nhealth; however, we all benefit when we learn the facts.\\nPromoting mental health to everyone: \\n• improves mental health• reduces stigma  • helps people to recognize risks and get help\\nIf you have concerns about yourself or someone you \\ncare about talk with a health care provider. \\nFor immediate help call 911 or visit your nearest hospital \\nemergency department.\\n'),\n",
       " Document(metadata={'source': 'mental_health.pdf', 'page': 18}, page_content='Mental Health is for Everyone19\\n'),\n",
       " Document(metadata={'source': 'mental_health.pdf', 'page': 19}, page_content='Durham Health Connection Line\\n905-666-6241 or 1-800-841-2729durham.ca\\nIf you require this information in an accessible format, \\ncontact 905-666-6241 or 1-800-841-2729June17')]"
      ]
     },
     "execution_count": 2,
     "metadata": {},
     "output_type": "execute_result"
    }
   ],
   "source": [
    "from langchain_community.document_loaders import PyPDFLoader\n",
    "loader = PyPDFLoader(\"mental_health.pdf\")\n",
    "docs = loader.load()\n",
    "docs"
   ]
  },
  {
   "cell_type": "code",
   "execution_count": 3,
   "metadata": {},
   "outputs": [
    {
     "data": {
      "text/plain": [
       "[Document(metadata={'source': 'mental_health.pdf', 'page': 0}, page_content='Mental Health\\nis for Everyone\\nPromoting Mental Health In Adults'),\n",
       " Document(metadata={'source': 'mental_health.pdf', 'page': 1}, page_content='Mental Health is for Everyone2This resource is to promote \\nmental health.\\nFor crisis help:\\n•Call 911 \\n•Visit your nearest hospital emergency department\\nWhat’s Inside\\nWhat is mental health and mental illness ............................ 3\\nMental health and mental illness diagram .......................... 5\\nTransition and life events ........................................................... 6\\nMental health and mental illness examples ....................... 7\\nProtective and risk factor ........................................................... 10\\nWhat supports mental health? ................................................ 12\\nThings you can do right now to improve                              your mental health\\n....................................................................... 14'),\n",
       " Document(metadata={'source': 'mental_health.pdf', 'page': 2}, page_content='Mental Health is for Everyone3What is mental health?\\nGood mental health is important for everyone as it helps us \\ncope with life’s stresses and reach our goals. Mental health is about how we think, feel and act. When our mental health is good it helps us to get the most out of life. \\nWe all have highs and lows in our mental health. A low period \\ndoes not mean you have a mental illness. It’s normal to have feelings like anger, sadness or anxiety when facing challenges.\\nWhat is mental illness?\\nThere is a difference between mental health and mental illness. A mental illness is when a person is diagnosed with a problem that alters their thinking, mood and/or behaviour. Illnesses are linked to times when a person is distressed and their ability to function well has changed. Examples of mental illness include depression and anxiety disorder. \\nWhether or not you have an illness, knowing about mental'),\n",
       " Document(metadata={'source': 'mental_health.pdf', 'page': 2}, page_content='health and how to keep mentally healthy is important for everyone. We can all improve our mental health.'),\n",
       " Document(metadata={'source': 'mental_health.pdf', 'page': 3}, page_content='Mental Health is for Everyone41 in 5 people will have a\\nmental illness in their lifetime.\\n4 out of 5 won’t but this\\ndoesn’t mean they aredoing well mentally.')]"
      ]
     },
     "execution_count": 3,
     "metadata": {},
     "output_type": "execute_result"
    }
   ],
   "source": [
    "from langchain.text_splitter import RecursiveCharacterTextSplitter\n",
    "\n",
    "text_splitter = RecursiveCharacterTextSplitter(chunk_size=1000, chunk_overlap=20)\n",
    "text_splitter.split_documents(docs)[:5]"
   ]
  },
  {
   "cell_type": "code",
   "execution_count": 4,
   "metadata": {},
   "outputs": [
    {
     "data": {
      "text/plain": [
       "[Document(metadata={'source': 'mental_health.pdf', 'page': 0}, page_content='Mental Health\\nis for Everyone\\nPromoting Mental Health In Adults'),\n",
       " Document(metadata={'source': 'mental_health.pdf', 'page': 1}, page_content='Mental Health is for Everyone2This resource is to promote \\nmental health.\\nFor crisis help:\\n•Call 911 \\n•Visit your nearest hospital emergency department\\nWhat’s Inside\\nWhat is mental health and mental illness ............................ 3\\nMental health and mental illness diagram .......................... 5\\nTransition and life events ........................................................... 6\\nMental health and mental illness examples ....................... 7\\nProtective and risk factor ........................................................... 10\\nWhat supports mental health? ................................................ 12\\nThings you can do right now to improve                              your mental health\\n....................................................................... 14'),\n",
       " Document(metadata={'source': 'mental_health.pdf', 'page': 2}, page_content='Mental Health is for Everyone3What is mental health?\\nGood mental health is important for everyone as it helps us \\ncope with life’s stresses and reach our goals. Mental health is about how we think, feel and act. When our mental health is good it helps us to get the most out of life. \\nWe all have highs and lows in our mental health. A low period \\ndoes not mean you have a mental illness. It’s normal to have feelings like anger, sadness or anxiety when facing challenges.\\nWhat is mental illness?\\nThere is a difference between mental health and mental illness. A mental illness is when a person is diagnosed with a problem that alters their thinking, mood and/or behaviour. Illnesses are linked to times when a person is distressed and their ability to function well has changed. Examples of mental illness include depression and anxiety disorder. \\nWhether or not you have an illness, knowing about mental'),\n",
       " Document(metadata={'source': 'mental_health.pdf', 'page': 2}, page_content='health and how to keep mentally healthy is important for everyone. We can all improve our mental health.'),\n",
       " Document(metadata={'source': 'mental_health.pdf', 'page': 3}, page_content='Mental Health is for Everyone41 in 5 people will have a\\nmental illness in their lifetime.\\n4 out of 5 won’t but this\\ndoesn’t mean they aredoing well mentally.'),\n",
       " Document(metadata={'source': 'mental_health.pdf', 'page': 4}, page_content='Mental Health is for Everyone5\\nMental health can be gained and lost each day through our \\ninteractions, relationships and how we behave towards one another. A person may not have a mental illness but can still have poor mental health. As well, a person can have a mental illness but have good mental health. The diagram below shows how it can vary.\\nGood Men\\ntal Health\\nA person with good mental health and no mental illnessA person with good mental health and a mental illness\\nNo Mental Illness\\nA person with \\nno mental illness but poor mental health Serious Mental Illness\\nA person with a mental illness and poor mental health\\nPoor Mental Health\\n(Adapted from Centre for Addiction and Mental Health, 2014)'),\n",
       " Document(metadata={'source': 'mental_health.pdf', 'page': 5}, page_content='Mental Health is for Everyone6Transition and life events\\nThere are certain times in our lives when our mental health \\nmay be more vulnerable. Some of these times are known as “transitions” and the others are “life events” .\\nTransitions \\n•Graduating school and going to post-secondary \\neducation or work\\n•Moving out on your own \\n•Pregnancy and becoming a parent\\n•Later in life with changes to family structure and retiring from work\\nLife events•Being unemployed, underemployed or experiencing work stress\\n•Experiencing loss, death of a loved one or getting divorced\\n•Having to care for someone who is dependent on you \\n•Immigrating to a new country \\n•Developing a chronic illness\\n•Experiencing and/or witnessing abuse, bullying, discrimination or violence\\nBy taking care of our mental health we can reducethe chance of de\\nveloping a mental health problem.'),\n",
       " Document(metadata={'source': 'mental_health.pdf', 'page': 6}, page_content='Mental Health is for Everyone7Here are some examples of how a person’s mental health can \\nvary:\\nMark When Mark started \\ncollege he was eager to leave home and become independent.\\nBy mid-semester Mark was \\nstruggling to keep up with his course work and he stopped going out with his friends. His parents noticed his mood had changed when he came home for the weekend. They talked with him about it and together they made a plan to visit their family doctor.\\nMark was diagnosed with \\nan anxiety disorder and got treatment. He is now able to manage his school work and spend time with his friends.'),\n",
       " Document(metadata={'source': 'mental_health.pdf', 'page': 7}, page_content='Mental Health is for Everyone8\\nJessica\\nWhen Jessica became a new \\nmom she was very excited and happy. \\nWithin a few weeks Jessica was \\nvery tired from lack of sleep and feeling a little overwhelmed. Jessica’s friend noticed this and talked to her. Together they made a plan which included help from her family and friends with meals and housework.\\nWith the support of her friends \\nand family Jessica is now taking time for herself and feeling like she can manage her new role.'),\n",
       " Document(metadata={'source': 'mental_health.pdf', 'page': 8}, page_content='Mental Health is for Everyone9\\nBill\\nIn his 20’s, Bill was diagnosed \\nand treated for depression and recovered. \\nBill recently lost his job with a \\ncompany he had worked at for the past 25 years. He is angry, having trouble sleeping and drinking heavily. Bill has started to have thoughts of suicide. \\nBill remembers from his previous \\nepisode of depression that there is help available and decides to call the local crisis line.'),\n",
       " Document(metadata={'source': 'mental_health.pdf', 'page': 9}, page_content='Mental Health is for Everyone10\\nProtective and risk factors\\nThere are things that can protect our mental health and things \\nthat put it at risk. Protective factors buffer a person and help reduce the chance of developing a problem. Risk factors make it more likely that a person will develop a problem.\\nProtective\\nFactors:Feeling like\\nyou belong\\nHaving\\ngood\\nphysical\\nhealth\\nBeing able\\nto solve\\nproblems\\nHaving\\nyour basic\\nneeds met\\n(safe housing,\\nstable\\nincome) Feeling in\\ncontrol of\\nyour lifeSpending\\ntime with\\npeople\\nyou enjoy'),\n",
       " Document(metadata={'source': 'mental_health.pdf', 'page': 10}, page_content='Mental Health is for Everyone11\\nRisk\\nFactors\\nTraumatic\\nlife experienceChildhood\\ntrauma \\nHaving a\\nparent witha mental healthproblem orillnessHaving alcohol,drug and/orgamblingproblemsBeingisolatedand orfeelingalone \\nSome risk factors may be outside of your control, but, \\nthere are always steps you can take to reduce their effect. \\nThe key to improving mental health is to increase protective factors.'),\n",
       " Document(metadata={'source': 'mental_health.pdf', 'page': 11}, page_content='Mental Health is for Everyone12What supports mental health?\\nResiliency\\nEveryone can improve their \\nmental health by building their resilience. Resiliency is the ability to handle life’s ups and downs in positive ways and to bounce back from hard times. Making it through life’s challenges strengthens our ability to handle future stressors.\\nPhysical Health\\nMental health and physical \\nhealth are closely linked.  Long-term stress can cause health problems. Also, having a chronic illness can impact mental health. Maintaining or improving our physical health benefits overall health.'),\n",
       " Document(metadata={'source': 'mental_health.pdf', 'page': 12}, page_content='Mental Health is for Everyone13\\nEmotional Well-Being\\nWe all have many emotions. \\nPositive emotions support our mental health. When we are able to manage, express and use our emotions well, it can improve our health. \\nHealthy Coping\\nOur bodies are able to respond better to stress when we practice healthy coping. Choosing unhealthy coping methods can be harmful to your health and hinder your ability to deal with stress. \\nPositive Thinking\\nAt times, it can be a challenge to have a positive outlook when dealing with transitions and life events. Optimistic thinking has been shown to enhance our overall health.   Try to focus on the positives. Think of the things you can control and then make a plan to improve them.'),\n",
       " Document(metadata={'source': 'mental_health.pdf', 'page': 13}, page_content='Mental Health is for Everyone14Things you can do right now\\nto improve your mental health:\\nTip\\n#1\\nEat a healthy diet\\nUsing Canada’s Food \\nGuide will benefit your health. Have breakfast every day. Eat more vegetables and fruit. Drink water to quench your thirst. While grocery shopping read the Nutrition Facts table on food labels to eat healthier.\\nTip\\n#2\\nBe active\\nAdults ages 18-65+ need at least 150 minutes of physical activity each week. It can help you to feel good, reduce stress, maintain a healthier weight and lower your risk for illness. Try things that fit into your life like going for a walk, a bike ride, jogging or swimming.'),\n",
       " Document(metadata={'source': 'mental_health.pdf', 'page': 14}, page_content='Mental Health is for Everyone15\\nTip\\n#3\\nGet enough sleep\\nSleep provides a time for \\nour bodies and minds to rest and restore. While needs can vary across the ages, aim to get 7-9 hours of sleep each night. Some things that may help include: having a regular routine, avoiding caffeine and alcohol, winding down with a good book or bath and keeping your room dark, cool and electronic free. \\nTip\\n#4\\nOffer to help\\nsomeone else\\nHelping others \\nbenefits you too. It can increase your feelings of well-being and being connected. Find out where there’s a need close to you (e.g. volunteer at your child’s school or a senior’s home or help a neighbour).'),\n",
       " Document(metadata={'source': 'mental_health.pdf', 'page': 15}, page_content='Mental Health is for Everyone16\\nTip\\n#5\\nGet involved\\nand be creative\\nTaking part in local \\nprograms gives you a chance to create, express and connect with others. Getting involved has benefits for you and your community. Share your talents and find out what’s going on in your community (e.g. community gardens, art/ cultural events and festivals). \\nTip\\n#6\\nReview what\\nmatters to you \\nFinding purpose \\nand meaning in life promotes positive mental health. It can be a source of strength, inspiration, a means of coping with life and personal growth. This may include spiritual beliefs, religious practices, worship and/or other activities that have meaning. Take time to review what matters to you and find ways to celebrate life.'),\n",
       " Document(metadata={'source': 'mental_health.pdf', 'page': 16}, page_content='Mental Health is for Everyone17\\nTip\\n#7\\nManage work stress\\nWhile work benefits our \\nmental health in many ways, it can also be a source of stress. Some things that can help manage work stress are: thinking positively, getting to know your co-workers, finding a mentor, taking your breaks, getting training, learning new skills and trying to leave work on time. \\nTip\\n#8\\nBuild and enjoy\\nhealthy relationships\\nHaving healthy \\nrelationships with a partner, family member, friend and/or co-worker can be a source of support when we feel stressed. These relationships can provide us with feelings of love, value and respect. Consider going for a coffee or a walk with a friend. Sometimes relationships can be a source of stress. It may be helpful to think of conflict as a normal part of life and try to take steps to resolve it.'),\n",
       " Document(metadata={'source': 'mental_health.pdf', 'page': 17}, page_content='Mental Health is for Everyone18Most people do a good job of taking care of their mental \\nhealth; however, we all benefit when we learn the facts.\\nPromoting mental health to everyone: \\n• improves mental health• reduces stigma  • helps people to recognize risks and get help\\nIf you have concerns about yourself or someone you \\ncare about talk with a health care provider. \\nFor immediate help call 911 or visit your nearest hospital \\nemergency department.'),\n",
       " Document(metadata={'source': 'mental_health.pdf', 'page': 18}, page_content='Mental Health is for Everyone19'),\n",
       " Document(metadata={'source': 'mental_health.pdf', 'page': 19}, page_content='Durham Health Connection Line\\n905-666-6241 or 1-800-841-2729durham.ca\\nIf you require this information in an accessible format, \\ncontact 905-666-6241 or 1-800-841-2729June17')]"
      ]
     },
     "execution_count": 4,
     "metadata": {},
     "output_type": "execute_result"
    }
   ],
   "source": [
    "documents=text_splitter.split_documents(docs)\n",
    "documents"
   ]
  },
  {
   "cell_type": "code",
   "execution_count": 5,
   "metadata": {},
   "outputs": [],
   "source": [
    "from langchain_community.embeddings import OllamaEmbeddings\n",
    "from langchain_community.vectorstores import FAISS\n",
    "\n",
    "db=FAISS.from_documents(documents[:10],OllamaEmbeddings())"
   ]
  },
  {
   "cell_type": "code",
   "execution_count": 6,
   "metadata": {},
   "outputs": [
    {
     "data": {
      "text/plain": [
       "<langchain_community.vectorstores.faiss.FAISS at 0x2255b1c67a0>"
      ]
     },
     "execution_count": 6,
     "metadata": {},
     "output_type": "execute_result"
    }
   ],
   "source": [
    "db"
   ]
  },
  {
   "cell_type": "code",
   "execution_count": 7,
   "metadata": {},
   "outputs": [
    {
     "data": {
      "text/plain": [
       "'Mental Health is for Everyone3What is mental health?\\nGood mental health is important for everyone as it helps us \\ncope with life’s stresses and reach our goals. Mental health is about how we think, feel and act. When our mental health is good it helps us to get the most out of life. \\nWe all have highs and lows in our mental health. A low period \\ndoes not mean you have a mental illness. It’s normal to have feelings like anger, sadness or anxiety when facing challenges.\\nWhat is mental illness?\\nThere is a difference between mental health and mental illness. A mental illness is when a person is diagnosed with a problem that alters their thinking, mood and/or behaviour. Illnesses are linked to times when a person is distressed and their ability to function well has changed. Examples of mental illness include depression and anxiety disorder. \\nWhether or not you have an illness, knowing about mental'"
      ]
     },
     "execution_count": 7,
     "metadata": {},
     "output_type": "execute_result"
    }
   ],
   "source": [
    "query=\"A mental illness is when a person is diagnosed\"\n",
    "result=db.similarity_search(query)\n",
    "result[0].page_content"
   ]
  },
  {
   "cell_type": "code",
   "execution_count": 8,
   "metadata": {},
   "outputs": [
    {
     "data": {
      "text/plain": [
       "Ollama(model='llama3')"
      ]
     },
     "execution_count": 8,
     "metadata": {},
     "output_type": "execute_result"
    }
   ],
   "source": [
    "from langchain_community.llms import Ollama\n",
    "## Load Ollama LAMA2 LLM model\n",
    "llm=Ollama(model=\"llama3\")\n",
    "llm"
   ]
  },
  {
   "cell_type": "code",
   "execution_count": 9,
   "metadata": {},
   "outputs": [],
   "source": [
    "## Design ChatPrompt Template\n",
    "from langchain_core.prompts import ChatPromptTemplate\n",
    "prompt = ChatPromptTemplate.from_template(\"\"\"\n",
    "Answer the following question based only on the provided context. \n",
    "Think step by step before providing a detailed answer. \n",
    "<context>\n",
    "{context}\n",
    "</context>\n",
    "Question: {input}\"\"\")"
   ]
  },
  {
   "cell_type": "code",
   "execution_count": 10,
   "metadata": {},
   "outputs": [],
   "source": [
    "## Chain Introduction\n",
    "## Create Stuff Docment Chain\n",
    "\n",
    "from langchain.chains.combine_documents import create_stuff_documents_chain\n",
    "\n",
    "document_chain=create_stuff_documents_chain(llm,prompt)"
   ]
  },
  {
   "cell_type": "code",
   "execution_count": 11,
   "metadata": {},
   "outputs": [
    {
     "data": {
      "text/plain": [
       "VectorStoreRetriever(tags=['FAISS', 'OllamaEmbeddings'], vectorstore=<langchain_community.vectorstores.faiss.FAISS object at 0x000002255B1C67A0>)"
      ]
     },
     "execution_count": 11,
     "metadata": {},
     "output_type": "execute_result"
    }
   ],
   "source": [
    "\"\"\"\n",
    "Retrievers: A retriever is an interface that returns documents given\n",
    " an unstructured query. It is more general than a vector store.\n",
    " A retriever does not need to be able to store documents, only to \n",
    " return (or retrieve) them. Vector stores can be used as the backbone\n",
    " of a retriever, but there are other types of retrievers as well. \n",
    " https://python.langchain.com/docs/modules/data_connection/retrievers/   \n",
    "\"\"\"\n",
    "\n",
    "retriever=db.as_retriever()\n",
    "retriever"
   ]
  },
  {
   "cell_type": "code",
   "execution_count": 12,
   "metadata": {},
   "outputs": [],
   "source": [
    "\"\"\"\n",
    "Retrieval chain:This chain takes in a user inquiry, which is then\n",
    "passed to the retriever to fetch relevant documents. Those documents \n",
    "(and original inputs) are then passed to an LLM to generate a response\n",
    "https://python.langchain.com/docs/modules/chains/\n",
    "\"\"\"\n",
    "from langchain.chains import create_retrieval_chain\n",
    "retrieval_chain=create_retrieval_chain(retriever,document_chain)"
   ]
  },
  {
   "cell_type": "code",
   "execution_count": 13,
   "metadata": {},
   "outputs": [],
   "source": [
    "response=retrieval_chain.invoke({\"input\":\"What is Mental Health?\"})"
   ]
  },
  {
   "cell_type": "code",
   "execution_count": 14,
   "metadata": {},
   "outputs": [
    {
     "data": {
      "text/plain": [
       "{'input': 'What is Mental Health',\n",
       " 'context': [Document(metadata={'source': 'mental_health.pdf', 'page': 2}, page_content='health and how to keep mentally healthy is important for everyone. We can all improve our mental health.'),\n",
       "  Document(metadata={'source': 'mental_health.pdf', 'page': 8}, page_content='Mental Health is for Everyone9\\nBill\\nIn his 20’s, Bill was diagnosed \\nand treated for depression and recovered. \\nBill recently lost his job with a \\ncompany he had worked at for the past 25 years. He is angry, having trouble sleeping and drinking heavily. Bill has started to have thoughts of suicide. \\nBill remembers from his previous \\nepisode of depression that there is help available and decides to call the local crisis line.'),\n",
       "  Document(metadata={'source': 'mental_health.pdf', 'page': 0}, page_content='Mental Health\\nis for Everyone\\nPromoting Mental Health In Adults'),\n",
       "  Document(metadata={'source': 'mental_health.pdf', 'page': 5}, page_content='Mental Health is for Everyone6Transition and life events\\nThere are certain times in our lives when our mental health \\nmay be more vulnerable. Some of these times are known as “transitions” and the others are “life events” .\\nTransitions \\n•Graduating school and going to post-secondary \\neducation or work\\n•Moving out on your own \\n•Pregnancy and becoming a parent\\n•Later in life with changes to family structure and retiring from work\\nLife events•Being unemployed, underemployed or experiencing work stress\\n•Experiencing loss, death of a loved one or getting divorced\\n•Having to care for someone who is dependent on you \\n•Immigrating to a new country \\n•Developing a chronic illness\\n•Experiencing and/or witnessing abuse, bullying, discrimination or violence\\nBy taking care of our mental health we can reducethe chance of de\\nveloping a mental health problem.')],\n",
       " 'answer': \"Based on the provided context, Mental Health refers to the overall well-being and emotional stability of an individual. It encompasses the ability to cope with life's transitions and events, manage stress, and maintain a positive outlook. The context suggests that mental health is important for everyone and can be improved with proper care and attention.\"}"
      ]
     },
     "execution_count": 14,
     "metadata": {},
     "output_type": "execute_result"
    }
   ],
   "source": [
    "response"
   ]
  },
  {
   "cell_type": "code",
   "execution_count": 15,
   "metadata": {},
   "outputs": [
    {
     "data": {
      "text/plain": [
       "\"Based on the provided context, Mental Health refers to the overall well-being and emotional stability of an individual. It encompasses the ability to cope with life's transitions and events, manage stress, and maintain a positive outlook. The context suggests that mental health is important for everyone and can be improved with proper care and attention.\""
      ]
     },
     "execution_count": 15,
     "metadata": {},
     "output_type": "execute_result"
    }
   ],
   "source": [
    "response['answer']"
   ]
  }
 ],
 "metadata": {
  "kernelspec": {
   "display_name": "venv",
   "language": "python",
   "name": "python3"
  },
  "language_info": {
   "codemirror_mode": {
    "name": "ipython",
    "version": 3
   },
   "file_extension": ".py",
   "mimetype": "text/x-python",
   "name": "python",
   "nbconvert_exporter": "python",
   "pygments_lexer": "ipython3",
   "version": "3.10.2"
  }
 },
 "nbformat": 4,
 "nbformat_minor": 2
}
