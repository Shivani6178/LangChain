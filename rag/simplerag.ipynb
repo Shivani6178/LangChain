{
 "cells": [
  {
   "cell_type": "code",
   "execution_count": 12,
   "metadata": {},
   "outputs": [
    {
     "name": "stdout",
     "output_type": "stream",
     "text": [
      "Collecting langchain\n",
      "  Using cached langchain-0.2.12-py3-none-any.whl (990 kB)\n",
      "Collecting aiohttp<4.0.0,>=3.8.3\n",
      "  Downloading aiohttp-3.10.3-cp310-cp310-win_amd64.whl (378 kB)\n",
      "Collecting langsmith<0.2.0,>=0.1.17\n",
      "  Downloading langsmith-0.1.98-py3-none-any.whl (140 kB)\n",
      "Collecting requests<3,>=2\n",
      "  Using cached requests-2.32.3-py3-none-any.whl (64 kB)\n",
      "Collecting langchain-text-splitters<0.3.0,>=0.2.0\n",
      "  Using cached langchain_text_splitters-0.2.2-py3-none-any.whl (25 kB)\n",
      "Collecting numpy<2,>=1\n",
      "  Using cached numpy-1.26.4-cp310-cp310-win_amd64.whl (15.8 MB)\n",
      "Collecting SQLAlchemy<3,>=1.4\n",
      "  Downloading SQLAlchemy-2.0.32-cp310-cp310-win_amd64.whl (2.1 MB)\n",
      "Collecting langchain-core<0.3.0,>=0.2.27\n",
      "  Using cached langchain_core-0.2.29-py3-none-any.whl (383 kB)\n",
      "Collecting tenacity!=8.4.0,<9.0.0,>=8.1.0\n",
      "  Using cached tenacity-8.5.0-py3-none-any.whl (28 kB)\n",
      "Collecting pydantic<3,>=1\n",
      "  Using cached pydantic-2.8.2-py3-none-any.whl (423 kB)\n",
      "Collecting PyYAML>=5.3\n",
      "  Downloading PyYAML-6.0.2-cp310-cp310-win_amd64.whl (161 kB)\n",
      "Collecting async-timeout<5.0.0,>=4.0.0\n",
      "  Downloading async_timeout-4.0.3-py3-none-any.whl (5.7 kB)\n",
      "Collecting yarl<2.0,>=1.0\n",
      "  Downloading yarl-1.9.4-cp310-cp310-win_amd64.whl (76 kB)\n",
      "Collecting frozenlist>=1.1.1\n",
      "  Downloading frozenlist-1.4.1-cp310-cp310-win_amd64.whl (50 kB)\n",
      "Collecting attrs>=17.3.0\n",
      "  Downloading attrs-24.2.0-py3-none-any.whl (63 kB)\n",
      "Collecting multidict<7.0,>=4.5\n",
      "  Downloading multidict-6.0.5-cp310-cp310-win_amd64.whl (28 kB)\n",
      "Collecting aiohappyeyeballs>=2.3.0\n",
      "  Downloading aiohappyeyeballs-2.3.5-py3-none-any.whl (12 kB)\n",
      "Collecting aiosignal>=1.1.2\n",
      "  Downloading aiosignal-1.3.1-py3-none-any.whl (7.6 kB)\n",
      "Collecting jsonpatch<2.0,>=1.33\n",
      "  Using cached jsonpatch-1.33-py2.py3-none-any.whl (12 kB)\n",
      "Requirement already satisfied: packaging<25,>=23.2 in d:\\projects folder\\langchain_series\\venv\\lib\\site-packages (from langchain-core<0.3.0,>=0.2.27->langchain) (24.1)\n",
      "Requirement already satisfied: typing-extensions>=4.7 in d:\\projects folder\\langchain_series\\venv\\lib\\site-packages (from langchain-core<0.3.0,>=0.2.27->langchain) (4.12.2)\n",
      "Collecting jsonpointer>=1.9\n",
      "  Using cached jsonpointer-3.0.0-py2.py3-none-any.whl (7.6 kB)\n",
      "Collecting orjson<4.0.0,>=3.9.14\n",
      "  Downloading orjson-3.10.7-cp310-none-win_amd64.whl (137 kB)\n",
      "Collecting pydantic-core==2.20.1\n",
      "  Using cached pydantic_core-2.20.1-cp310-none-win_amd64.whl (1.9 MB)\n",
      "Collecting annotated-types>=0.4.0\n",
      "  Using cached annotated_types-0.7.0-py3-none-any.whl (13 kB)\n",
      "Collecting certifi>=2017.4.17\n",
      "  Downloading certifi-2024.7.4-py3-none-any.whl (162 kB)\n",
      "Collecting urllib3<3,>=1.21.1\n",
      "  Using cached urllib3-2.2.2-py3-none-any.whl (121 kB)\n",
      "Collecting idna<4,>=2.5\n",
      "  Using cached idna-3.7-py3-none-any.whl (66 kB)\n",
      "Collecting charset-normalizer<4,>=2\n",
      "  Downloading charset_normalizer-3.3.2-cp310-cp310-win_amd64.whl (100 kB)\n",
      "Collecting greenlet!=0.4.17\n",
      "  Downloading greenlet-3.0.3-cp310-cp310-win_amd64.whl (292 kB)\n",
      "Installing collected packages: urllib3, pydantic-core, idna, charset-normalizer, certifi, annotated-types, requests, pydantic, orjson, jsonpointer, tenacity, PyYAML, multidict, langsmith, jsonpatch, frozenlist, yarl, langchain-core, greenlet, attrs, async-timeout, aiosignal, aiohappyeyeballs, SQLAlchemy, numpy, langchain-text-splitters, aiohttp, langchain\n",
      "Successfully installed PyYAML-6.0.2 SQLAlchemy-2.0.32 aiohappyeyeballs-2.3.5 aiohttp-3.10.3 aiosignal-1.3.1 annotated-types-0.7.0 async-timeout-4.0.3 attrs-24.2.0 certifi-2024.7.4 charset-normalizer-3.3.2 frozenlist-1.4.1 greenlet-3.0.3 idna-3.7 jsonpatch-1.33 jsonpointer-3.0.0 langchain-0.2.12 langchain-core-0.2.29 langchain-text-splitters-0.2.2 langsmith-0.1.98 multidict-6.0.5 numpy-1.26.4 orjson-3.10.7 pydantic-2.8.2 pydantic-core-2.20.1 requests-2.32.3 tenacity-8.5.0 urllib3-2.2.2 yarl-1.9.4\n"
     ]
    },
    {
     "name": "stderr",
     "output_type": "stream",
     "text": [
      "WARNING: You are using pip version 21.2.4; however, version 24.2 is available.\n",
      "You should consider upgrading via the 'D:\\Projects Folder\\LangChain_Series\\venv\\Scripts\\python.exe -m pip install --upgrade pip' command.\n"
     ]
    }
   ],
   "source": [
    "#!pip install langchain"
   ]
  },
  {
   "cell_type": "code",
   "execution_count": 13,
   "metadata": {},
   "outputs": [
    {
     "name": "stdout",
     "output_type": "stream",
     "text": [
      "Collecting langchain-community\n",
      "  Downloading langchain_community-0.2.11-py3-none-any.whl (2.3 MB)\n",
      "Requirement already satisfied: requests<3,>=2 in d:\\projects folder\\langchain_series\\venv\\lib\\site-packages (from langchain-community) (2.32.3)\n",
      "Requirement already satisfied: tenacity!=8.4.0,<9.0.0,>=8.1.0 in d:\\projects folder\\langchain_series\\venv\\lib\\site-packages (from langchain-community) (8.5.0)\n",
      "Requirement already satisfied: langchain<0.3.0,>=0.2.12 in d:\\projects folder\\langchain_series\\venv\\lib\\site-packages (from langchain-community) (0.2.12)\n",
      "Requirement already satisfied: langsmith<0.2.0,>=0.1.0 in d:\\projects folder\\langchain_series\\venv\\lib\\site-packages (from langchain-community) (0.1.98)\n",
      "Requirement already satisfied: numpy<2,>=1 in d:\\projects folder\\langchain_series\\venv\\lib\\site-packages (from langchain-community) (1.26.4)\n",
      "Collecting dataclasses-json<0.7,>=0.5.7\n",
      "  Using cached dataclasses_json-0.6.7-py3-none-any.whl (28 kB)\n",
      "Requirement already satisfied: SQLAlchemy<3,>=1.4 in d:\\projects folder\\langchain_series\\venv\\lib\\site-packages (from langchain-community) (2.0.32)\n",
      "Requirement already satisfied: PyYAML>=5.3 in d:\\projects folder\\langchain_series\\venv\\lib\\site-packages (from langchain-community) (6.0.2)\n",
      "Requirement already satisfied: langchain-core<0.3.0,>=0.2.27 in d:\\projects folder\\langchain_series\\venv\\lib\\site-packages (from langchain-community) (0.2.29)\n",
      "Requirement already satisfied: aiohttp<4.0.0,>=3.8.3 in d:\\projects folder\\langchain_series\\venv\\lib\\site-packages (from langchain-community) (3.10.3)\n",
      "Requirement already satisfied: aiosignal>=1.1.2 in d:\\projects folder\\langchain_series\\venv\\lib\\site-packages (from aiohttp<4.0.0,>=3.8.3->langchain-community) (1.3.1)\n",
      "Requirement already satisfied: multidict<7.0,>=4.5 in d:\\projects folder\\langchain_series\\venv\\lib\\site-packages (from aiohttp<4.0.0,>=3.8.3->langchain-community) (6.0.5)\n",
      "Requirement already satisfied: aiohappyeyeballs>=2.3.0 in d:\\projects folder\\langchain_series\\venv\\lib\\site-packages (from aiohttp<4.0.0,>=3.8.3->langchain-community) (2.3.5)\n",
      "Requirement already satisfied: frozenlist>=1.1.1 in d:\\projects folder\\langchain_series\\venv\\lib\\site-packages (from aiohttp<4.0.0,>=3.8.3->langchain-community) (1.4.1)\n",
      "Requirement already satisfied: attrs>=17.3.0 in d:\\projects folder\\langchain_series\\venv\\lib\\site-packages (from aiohttp<4.0.0,>=3.8.3->langchain-community) (24.2.0)\n",
      "Requirement already satisfied: async-timeout<5.0,>=4.0 in d:\\projects folder\\langchain_series\\venv\\lib\\site-packages (from aiohttp<4.0.0,>=3.8.3->langchain-community) (4.0.3)\n",
      "Requirement already satisfied: yarl<2.0,>=1.0 in d:\\projects folder\\langchain_series\\venv\\lib\\site-packages (from aiohttp<4.0.0,>=3.8.3->langchain-community) (1.9.4)\n",
      "Collecting typing-inspect<1,>=0.4.0\n",
      "  Using cached typing_inspect-0.9.0-py3-none-any.whl (8.8 kB)\n",
      "Collecting marshmallow<4.0.0,>=3.18.0\n",
      "  Using cached marshmallow-3.21.3-py3-none-any.whl (49 kB)\n",
      "Requirement already satisfied: langchain-text-splitters<0.3.0,>=0.2.0 in d:\\projects folder\\langchain_series\\venv\\lib\\site-packages (from langchain<0.3.0,>=0.2.12->langchain-community) (0.2.2)\n",
      "Requirement already satisfied: pydantic<3,>=1 in d:\\projects folder\\langchain_series\\venv\\lib\\site-packages (from langchain<0.3.0,>=0.2.12->langchain-community) (2.8.2)\n",
      "Requirement already satisfied: jsonpatch<2.0,>=1.33 in d:\\projects folder\\langchain_series\\venv\\lib\\site-packages (from langchain-core<0.3.0,>=0.2.27->langchain-community) (1.33)\n",
      "Requirement already satisfied: typing-extensions>=4.7 in d:\\projects folder\\langchain_series\\venv\\lib\\site-packages (from langchain-core<0.3.0,>=0.2.27->langchain-community) (4.12.2)\n",
      "Requirement already satisfied: packaging<25,>=23.2 in d:\\projects folder\\langchain_series\\venv\\lib\\site-packages (from langchain-core<0.3.0,>=0.2.27->langchain-community) (24.1)\n",
      "Requirement already satisfied: jsonpointer>=1.9 in d:\\projects folder\\langchain_series\\venv\\lib\\site-packages (from jsonpatch<2.0,>=1.33->langchain-core<0.3.0,>=0.2.27->langchain-community) (3.0.0)\n",
      "Requirement already satisfied: orjson<4.0.0,>=3.9.14 in d:\\projects folder\\langchain_series\\venv\\lib\\site-packages (from langsmith<0.2.0,>=0.1.0->langchain-community) (3.10.7)\n",
      "Requirement already satisfied: pydantic-core==2.20.1 in d:\\projects folder\\langchain_series\\venv\\lib\\site-packages (from pydantic<3,>=1->langchain<0.3.0,>=0.2.12->langchain-community) (2.20.1)\n",
      "Requirement already satisfied: annotated-types>=0.4.0 in d:\\projects folder\\langchain_series\\venv\\lib\\site-packages (from pydantic<3,>=1->langchain<0.3.0,>=0.2.12->langchain-community) (0.7.0)\n",
      "Requirement already satisfied: charset-normalizer<4,>=2 in d:\\projects folder\\langchain_series\\venv\\lib\\site-packages (from requests<3,>=2->langchain-community) (3.3.2)\n",
      "Requirement already satisfied: certifi>=2017.4.17 in d:\\projects folder\\langchain_series\\venv\\lib\\site-packages (from requests<3,>=2->langchain-community) (2024.7.4)\n",
      "Requirement already satisfied: idna<4,>=2.5 in d:\\projects folder\\langchain_series\\venv\\lib\\site-packages (from requests<3,>=2->langchain-community) (3.7)\n",
      "Requirement already satisfied: urllib3<3,>=1.21.1 in d:\\projects folder\\langchain_series\\venv\\lib\\site-packages (from requests<3,>=2->langchain-community) (2.2.2)\n",
      "Requirement already satisfied: greenlet!=0.4.17 in d:\\projects folder\\langchain_series\\venv\\lib\\site-packages (from SQLAlchemy<3,>=1.4->langchain-community) (3.0.3)\n",
      "Collecting mypy-extensions>=0.3.0\n",
      "  Using cached mypy_extensions-1.0.0-py3-none-any.whl (4.7 kB)\n",
      "Installing collected packages: mypy-extensions, typing-inspect, marshmallow, dataclasses-json, langchain-community\n",
      "Successfully installed dataclasses-json-0.6.7 langchain-community-0.2.11 marshmallow-3.21.3 mypy-extensions-1.0.0 typing-inspect-0.9.0\n"
     ]
    },
    {
     "name": "stderr",
     "output_type": "stream",
     "text": [
      "WARNING: You are using pip version 21.2.4; however, version 24.2 is available.\n",
      "You should consider upgrading via the 'D:\\Projects Folder\\LangChain_Series\\venv\\Scripts\\python.exe -m pip install --upgrade pip' command.\n"
     ]
    }
   ],
   "source": [
    "#!pip install langchain-community"
   ]
  },
  {
   "cell_type": "code",
   "execution_count": 18,
   "metadata": {},
   "outputs": [
    {
     "name": "stdout",
     "output_type": "stream",
     "text": [
      "Collecting bs4\n",
      "  Using cached bs4-0.0.2-py2.py3-none-any.whl (1.2 kB)\n",
      "Collecting beautifulsoup4\n",
      "  Using cached beautifulsoup4-4.12.3-py3-none-any.whl (147 kB)\n",
      "Collecting soupsieve>1.2\n",
      "  Downloading soupsieve-2.5-py3-none-any.whl (36 kB)\n",
      "Installing collected packages: soupsieve, beautifulsoup4, bs4\n",
      "Successfully installed beautifulsoup4-4.12.3 bs4-0.0.2 soupsieve-2.5\n"
     ]
    },
    {
     "name": "stderr",
     "output_type": "stream",
     "text": [
      "WARNING: You are using pip version 21.2.4; however, version 24.2 is available.\n",
      "You should consider upgrading via the 'D:\\Projects Folder\\LangChain_Series\\venv\\Scripts\\python.exe -m pip install --upgrade pip' command.\n"
     ]
    }
   ],
   "source": [
    "#!pip install bs4"
   ]
  },
  {
   "cell_type": "code",
   "execution_count": 28,
   "metadata": {},
   "outputs": [
    {
     "name": "stdout",
     "output_type": "stream",
     "text": [
      "Collecting pypdf\n",
      "  Using cached pypdf-4.3.1-py3-none-any.whl (295 kB)\n",
      "Requirement already satisfied: typing_extensions>=4.0 in d:\\projects folder\\langchain_series\\venv\\lib\\site-packages (from pypdf) (4.12.2)\n",
      "Installing collected packages: pypdf\n",
      "Successfully installed pypdf-4.3.1\n"
     ]
    },
    {
     "name": "stderr",
     "output_type": "stream",
     "text": [
      "WARNING: You are using pip version 21.2.4; however, version 24.2 is available.\n",
      "You should consider upgrading via the 'D:\\Projects Folder\\LangChain_Series\\venv\\Scripts\\python.exe -m pip install --upgrade pip' command.\n"
     ]
    }
   ],
   "source": [
    "#!pip install pypdf"
   ]
  },
  {
   "cell_type": "code",
   "execution_count": 42,
   "metadata": {},
   "outputs": [
    {
     "name": "stdout",
     "output_type": "stream",
     "text": [
      "Collecting chromadb\n",
      "  Using cached chromadb-0.5.5-py3-none-any.whl (584 kB)\n",
      "Collecting opentelemetry-exporter-otlp-proto-grpc>=1.2.0\n",
      "  Using cached opentelemetry_exporter_otlp_proto_grpc-1.26.0-py3-none-any.whl (18 kB)\n",
      "Collecting build>=1.0.3\n",
      "  Using cached build-1.2.1-py3-none-any.whl (21 kB)\n",
      "Collecting overrides>=7.3.1\n",
      "  Using cached overrides-7.7.0-py3-none-any.whl (17 kB)\n",
      "Collecting httpx>=0.27.0\n",
      "  Using cached httpx-0.27.0-py3-none-any.whl (75 kB)\n",
      "Collecting fastapi>=0.95.2\n",
      "  Downloading fastapi-0.112.0-py3-none-any.whl (93 kB)\n",
      "Collecting uvicorn[standard]>=0.18.3\n",
      "  Downloading uvicorn-0.30.5-py3-none-any.whl (62 kB)\n",
      "Requirement already satisfied: numpy<2.0.0,>=1.22.5 in d:\\projects folder\\langchain_series\\venv\\lib\\site-packages (from chromadb) (1.26.4)\n",
      "Collecting kubernetes>=28.1.0\n",
      "  Using cached kubernetes-30.1.0-py2.py3-none-any.whl (1.7 MB)\n",
      "Collecting mmh3>=4.0.1\n",
      "  Using cached mmh3-4.1.0-cp310-cp310-win_amd64.whl (31 kB)\n",
      "Collecting bcrypt>=4.0.1\n",
      "  Using cached bcrypt-4.2.0-cp39-abi3-win_amd64.whl (151 kB)\n",
      "Requirement already satisfied: tenacity>=8.2.3 in d:\\projects folder\\langchain_series\\venv\\lib\\site-packages (from chromadb) (8.5.0)\n",
      "Collecting chroma-hnswlib==0.7.6\n",
      "  Using cached chroma_hnswlib-0.7.6-cp310-cp310-win_amd64.whl (150 kB)\n",
      "Collecting onnxruntime>=1.14.1\n",
      "  Using cached onnxruntime-1.18.1-cp310-cp310-win_amd64.whl (5.6 MB)\n",
      "Collecting importlib-resources\n",
      "  Using cached importlib_resources-6.4.0-py3-none-any.whl (38 kB)\n",
      "Collecting tokenizers>=0.13.2\n",
      "  Downloading tokenizers-0.20.0-cp310-none-win_amd64.whl (2.3 MB)\n",
      "Requirement already satisfied: typing-extensions>=4.5.0 in d:\\projects folder\\langchain_series\\venv\\lib\\site-packages (from chromadb) (4.12.2)\n",
      "Collecting opentelemetry-api>=1.2.0\n",
      "  Using cached opentelemetry_api-1.26.0-py3-none-any.whl (61 kB)\n",
      "Collecting opentelemetry-sdk>=1.2.0\n",
      "  Using cached opentelemetry_sdk-1.26.0-py3-none-any.whl (109 kB)\n",
      "Collecting posthog>=2.4.0\n",
      "  Using cached posthog-3.5.0-py2.py3-none-any.whl (41 kB)\n",
      "Collecting pypika>=0.48.9\n",
      "  Using cached PyPika-0.48.9.tar.gz (67 kB)\n",
      "  Installing build dependencies: started\n",
      "  Installing build dependencies: finished with status 'done'\n",
      "  Getting requirements to build wheel: started\n",
      "  Getting requirements to build wheel: finished with status 'done'\n",
      "    Preparing wheel metadata: started\n",
      "    Preparing wheel metadata: finished with status 'done'\n",
      "Requirement already satisfied: pydantic>=1.9 in d:\\projects folder\\langchain_series\\venv\\lib\\site-packages (from chromadb) (2.8.2)\n",
      "Collecting opentelemetry-instrumentation-fastapi>=0.41b0\n",
      "  Using cached opentelemetry_instrumentation_fastapi-0.47b0-py3-none-any.whl (11 kB)\n",
      "Collecting typer>=0.9.0\n",
      "  Using cached typer-0.12.3-py3-none-any.whl (47 kB)\n",
      "Collecting grpcio>=1.58.0\n",
      "  Downloading grpcio-1.65.4-cp310-cp310-win_amd64.whl (4.1 MB)\n",
      "Requirement already satisfied: orjson>=3.9.12 in d:\\projects folder\\langchain_series\\venv\\lib\\site-packages (from chromadb) (3.10.7)\n",
      "Collecting tqdm>=4.65.0\n",
      "  Downloading tqdm-4.66.5-py3-none-any.whl (78 kB)\n",
      "Requirement already satisfied: PyYAML>=6.0.0 in d:\\projects folder\\langchain_series\\venv\\lib\\site-packages (from chromadb) (6.0.2)\n",
      "Collecting pyproject_hooks\n",
      "  Using cached pyproject_hooks-1.1.0-py3-none-any.whl (9.2 kB)\n",
      "Requirement already satisfied: colorama in d:\\projects folder\\langchain_series\\venv\\lib\\site-packages (from build>=1.0.3->chromadb) (0.4.6)\n",
      "Collecting tomli>=1.1.0\n",
      "  Using cached tomli-2.0.1-py3-none-any.whl (12 kB)\n",
      "Requirement already satisfied: packaging>=19.1 in d:\\projects folder\\langchain_series\\venv\\lib\\site-packages (from build>=1.0.3->chromadb) (24.1)\n",
      "Collecting starlette<0.38.0,>=0.37.2\n",
      "  Using cached starlette-0.37.2-py3-none-any.whl (71 kB)\n",
      "Collecting httpcore==1.*\n",
      "  Using cached httpcore-1.0.5-py3-none-any.whl (77 kB)\n",
      "Collecting sniffio\n",
      "  Using cached sniffio-1.3.1-py3-none-any.whl (10 kB)\n",
      "Collecting anyio\n",
      "  Using cached anyio-4.4.0-py3-none-any.whl (86 kB)\n",
      "Requirement already satisfied: idna in d:\\projects folder\\langchain_series\\venv\\lib\\site-packages (from httpx>=0.27.0->chromadb) (3.7)\n",
      "Requirement already satisfied: certifi in d:\\projects folder\\langchain_series\\venv\\lib\\site-packages (from httpx>=0.27.0->chromadb) (2024.7.4)\n",
      "Collecting h11<0.15,>=0.13\n",
      "  Using cached h11-0.14.0-py3-none-any.whl (58 kB)\n",
      "Requirement already satisfied: requests in d:\\projects folder\\langchain_series\\venv\\lib\\site-packages (from kubernetes>=28.1.0->chromadb) (2.32.3)\n",
      "Collecting google-auth>=1.0.1\n",
      "  Downloading google_auth-2.33.0-py2.py3-none-any.whl (200 kB)\n",
      "Requirement already satisfied: python-dateutil>=2.5.3 in d:\\projects folder\\langchain_series\\venv\\lib\\site-packages (from kubernetes>=28.1.0->chromadb) (2.9.0.post0)\n",
      "Collecting requests-oauthlib\n",
      "  Downloading requests_oauthlib-2.0.0-py2.py3-none-any.whl (24 kB)\n",
      "Requirement already satisfied: six>=1.9.0 in d:\\projects folder\\langchain_series\\venv\\lib\\site-packages (from kubernetes>=28.1.0->chromadb) (1.16.0)\n",
      "Collecting oauthlib>=3.2.2\n",
      "  Using cached oauthlib-3.2.2-py3-none-any.whl (151 kB)\n",
      "Requirement already satisfied: urllib3>=1.24.2 in d:\\projects folder\\langchain_series\\venv\\lib\\site-packages (from kubernetes>=28.1.0->chromadb) (2.2.2)\n",
      "Collecting websocket-client!=0.40.0,!=0.41.*,!=0.42.*,>=0.32.0\n",
      "  Using cached websocket_client-1.8.0-py3-none-any.whl (58 kB)\n",
      "Collecting rsa<5,>=3.1.4\n",
      "  Using cached rsa-4.9-py3-none-any.whl (34 kB)\n",
      "Collecting pyasn1-modules>=0.2.1\n",
      "  Downloading pyasn1_modules-0.4.0-py3-none-any.whl (181 kB)\n",
      "Collecting cachetools<6.0,>=2.0.0\n",
      "  Downloading cachetools-5.4.0-py3-none-any.whl (9.5 kB)\n",
      "Collecting coloredlogs\n",
      "  Using cached coloredlogs-15.0.1-py2.py3-none-any.whl (46 kB)\n",
      "Collecting protobuf\n",
      "  Downloading protobuf-5.27.3-cp310-abi3-win_amd64.whl (426 kB)\n",
      "Collecting sympy\n",
      "  Using cached sympy-1.13.1-py3-none-any.whl (6.2 MB)\n",
      "Collecting flatbuffers\n",
      "  Using cached flatbuffers-24.3.25-py2.py3-none-any.whl (26 kB)\n",
      "Collecting importlib-metadata<=8.0.0,>=6.0\n",
      "  Using cached importlib_metadata-8.0.0-py3-none-any.whl (24 kB)\n",
      "Collecting deprecated>=1.2.6\n",
      "  Using cached Deprecated-1.2.14-py2.py3-none-any.whl (9.6 kB)\n",
      "Collecting wrapt<2,>=1.10\n",
      "  Downloading wrapt-1.16.0-cp310-cp310-win_amd64.whl (37 kB)\n",
      "Collecting zipp>=0.5\n",
      "  Downloading zipp-3.19.2-py3-none-any.whl (9.0 kB)\n",
      "Collecting googleapis-common-protos~=1.52\n",
      "  Downloading googleapis_common_protos-1.63.2-py2.py3-none-any.whl (220 kB)\n",
      "Collecting opentelemetry-exporter-otlp-proto-common==1.26.0\n",
      "  Using cached opentelemetry_exporter_otlp_proto_common-1.26.0-py3-none-any.whl (17 kB)\n",
      "Collecting opentelemetry-proto==1.26.0\n",
      "  Using cached opentelemetry_proto-1.26.0-py3-none-any.whl (52 kB)\n",
      "Collecting protobuf\n",
      "  Downloading protobuf-4.25.4-cp310-abi3-win_amd64.whl (413 kB)\n",
      "Collecting opentelemetry-instrumentation-asgi==0.47b0\n",
      "  Using cached opentelemetry_instrumentation_asgi-0.47b0-py3-none-any.whl (15 kB)\n",
      "Collecting opentelemetry-semantic-conventions==0.47b0\n",
      "  Using cached opentelemetry_semantic_conventions-0.47b0-py3-none-any.whl (138 kB)\n",
      "Collecting opentelemetry-util-http==0.47b0\n",
      "  Using cached opentelemetry_util_http-0.47b0-py3-none-any.whl (6.9 kB)\n",
      "Collecting opentelemetry-instrumentation==0.47b0\n",
      "  Using cached opentelemetry_instrumentation-0.47b0-py3-none-any.whl (29 kB)\n",
      "Requirement already satisfied: setuptools>=16.0 in d:\\projects folder\\langchain_series\\venv\\lib\\site-packages (from opentelemetry-instrumentation==0.47b0->opentelemetry-instrumentation-fastapi>=0.41b0->chromadb) (58.1.0)\n",
      "Collecting asgiref~=3.0\n",
      "  Using cached asgiref-3.8.1-py3-none-any.whl (23 kB)\n",
      "Collecting monotonic>=1.5\n",
      "  Using cached monotonic-1.6-py2.py3-none-any.whl (8.2 kB)\n",
      "Collecting backoff>=1.10.0\n",
      "  Using cached backoff-2.2.1-py3-none-any.whl (15 kB)\n",
      "Collecting pyasn1<0.7.0,>=0.4.6\n",
      "  Downloading pyasn1-0.6.0-py2.py3-none-any.whl (85 kB)\n",
      "Requirement already satisfied: annotated-types>=0.4.0 in d:\\projects folder\\langchain_series\\venv\\lib\\site-packages (from pydantic>=1.9->chromadb) (0.7.0)\n",
      "Requirement already satisfied: pydantic-core==2.20.1 in d:\\projects folder\\langchain_series\\venv\\lib\\site-packages (from pydantic>=1.9->chromadb) (2.20.1)\n",
      "Requirement already satisfied: charset-normalizer<4,>=2 in d:\\projects folder\\langchain_series\\venv\\lib\\site-packages (from requests->kubernetes>=28.1.0->chromadb) (3.3.2)\n",
      "Requirement already satisfied: exceptiongroup>=1.0.2 in d:\\projects folder\\langchain_series\\venv\\lib\\site-packages (from anyio->httpx>=0.27.0->chromadb) (1.2.2)\n",
      "Collecting huggingface-hub<1.0,>=0.16.4\n",
      "  Downloading huggingface_hub-0.24.5-py3-none-any.whl (417 kB)\n",
      "Collecting filelock\n",
      "  Downloading filelock-3.15.4-py3-none-any.whl (16 kB)\n",
      "Collecting fsspec>=2023.5.0\n",
      "  Using cached fsspec-2024.6.1-py3-none-any.whl (177 kB)\n",
      "Collecting click>=8.0.0\n",
      "  Downloading click-8.1.7-py3-none-any.whl (97 kB)\n",
      "Collecting rich>=10.11.0\n",
      "  Using cached rich-13.7.1-py3-none-any.whl (240 kB)\n",
      "Collecting shellingham>=1.3.0\n",
      "  Using cached shellingham-1.5.4-py2.py3-none-any.whl (9.8 kB)\n",
      "Collecting markdown-it-py>=2.2.0\n",
      "  Using cached markdown_it_py-3.0.0-py3-none-any.whl (87 kB)\n",
      "Requirement already satisfied: pygments<3.0.0,>=2.13.0 in d:\\projects folder\\langchain_series\\venv\\lib\\site-packages (from rich>=10.11.0->typer>=0.9.0->chromadb) (2.18.0)\n",
      "Collecting mdurl~=0.1\n",
      "  Using cached mdurl-0.1.2-py3-none-any.whl (10.0 kB)\n",
      "Collecting httptools>=0.5.0\n",
      "  Using cached httptools-0.6.1-cp310-cp310-win_amd64.whl (58 kB)\n",
      "Collecting python-dotenv>=0.13\n",
      "  Using cached python_dotenv-1.0.1-py3-none-any.whl (19 kB)\n",
      "Collecting watchfiles>=0.13\n",
      "  Downloading watchfiles-0.23.0-cp310-none-win_amd64.whl (275 kB)\n",
      "Collecting websockets>=10.4\n",
      "  Downloading websockets-12.0-cp310-cp310-win_amd64.whl (124 kB)\n",
      "Collecting humanfriendly>=9.1\n",
      "  Using cached humanfriendly-10.0-py2.py3-none-any.whl (86 kB)\n",
      "Collecting pyreadline3\n",
      "  Using cached pyreadline3-3.4.1-py3-none-any.whl (95 kB)\n",
      "Collecting mpmath<1.4,>=1.1.0\n",
      "  Using cached mpmath-1.3.0-py3-none-any.whl (536 kB)\n",
      "Building wheels for collected packages: pypika\n",
      "  Building wheel for pypika (PEP 517): started\n",
      "  Building wheel for pypika (PEP 517): finished with status 'done'\n",
      "  Created wheel for pypika: filename=PyPika-0.48.9-py2.py3-none-any.whl size=53835 sha256=ed8d78dda4a4f4b9a7bd2573975fdd38a782b6cc3e1a9dea0212f2db0bf8572f\n",
      "  Stored in directory: c:\\users\\sanjana\\appdata\\local\\pip\\cache\\wheels\\e1\\26\\51\\d0bffb3d2fd82256676d7ad3003faea3bd6dddc9577af665f4\n",
      "Successfully built pypika\n",
      "Installing collected packages: zipp, wrapt, importlib-metadata, deprecated, sniffio, pyreadline3, pyasn1, protobuf, opentelemetry-api, mdurl, tqdm, rsa, pyasn1-modules, opentelemetry-util-http, opentelemetry-semantic-conventions, opentelemetry-proto, opentelemetry-instrumentation, oauthlib, mpmath, markdown-it-py, humanfriendly, h11, fsspec, filelock, click, cachetools, asgiref, anyio, websockets, websocket-client, watchfiles, uvicorn, tomli, sympy, starlette, shellingham, rich, requests-oauthlib, python-dotenv, pyproject-hooks, opentelemetry-sdk, opentelemetry-instrumentation-asgi, opentelemetry-exporter-otlp-proto-common, monotonic, huggingface-hub, httptools, httpcore, grpcio, googleapis-common-protos, google-auth, flatbuffers, coloredlogs, backoff, typer, tokenizers, pypika, posthog, overrides, opentelemetry-instrumentation-fastapi, opentelemetry-exporter-otlp-proto-grpc, onnxruntime, mmh3, kubernetes, importlib-resources, httpx, fastapi, chroma-hnswlib, build, bcrypt, chromadb\n",
      "Successfully installed anyio-4.4.0 asgiref-3.8.1 backoff-2.2.1 bcrypt-4.2.0 build-1.2.1 cachetools-5.4.0 chroma-hnswlib-0.7.6 chromadb-0.5.5 click-8.1.7 coloredlogs-15.0.1 deprecated-1.2.14 fastapi-0.112.0 filelock-3.15.4 flatbuffers-24.3.25 fsspec-2024.6.1 google-auth-2.33.0 googleapis-common-protos-1.63.2 grpcio-1.65.4 h11-0.14.0 httpcore-1.0.5 httptools-0.6.1 httpx-0.27.0 huggingface-hub-0.24.5 humanfriendly-10.0 importlib-metadata-8.0.0 importlib-resources-6.4.0 kubernetes-30.1.0 markdown-it-py-3.0.0 mdurl-0.1.2 mmh3-4.1.0 monotonic-1.6 mpmath-1.3.0 oauthlib-3.2.2 onnxruntime-1.18.1 opentelemetry-api-1.26.0 opentelemetry-exporter-otlp-proto-common-1.26.0 opentelemetry-exporter-otlp-proto-grpc-1.26.0 opentelemetry-instrumentation-0.47b0 opentelemetry-instrumentation-asgi-0.47b0 opentelemetry-instrumentation-fastapi-0.47b0 opentelemetry-proto-1.26.0 opentelemetry-sdk-1.26.0 opentelemetry-semantic-conventions-0.47b0 opentelemetry-util-http-0.47b0 overrides-7.7.0 posthog-3.5.0 protobuf-4.25.4 pyasn1-0.6.0 pyasn1-modules-0.4.0 pypika-0.48.9 pyproject-hooks-1.1.0 pyreadline3-3.4.1 python-dotenv-1.0.1 requests-oauthlib-2.0.0 rich-13.7.1 rsa-4.9 shellingham-1.5.4 sniffio-1.3.1 starlette-0.37.2 sympy-1.13.1 tokenizers-0.20.0 tomli-2.0.1 tqdm-4.66.5 typer-0.12.3 uvicorn-0.30.5 watchfiles-0.23.0 websocket-client-1.8.0 websockets-12.0 wrapt-1.16.0 zipp-3.19.2\n"
     ]
    },
    {
     "name": "stderr",
     "output_type": "stream",
     "text": [
      "WARNING: You are using pip version 21.2.4; however, version 24.2 is available.\n",
      "You should consider upgrading via the 'D:\\Projects Folder\\LangChain_Series\\venv\\Scripts\\python.exe -m pip install --upgrade pip' command.\n"
     ]
    }
   ],
   "source": [
    "#!pip install chromadb"
   ]
  },
  {
   "cell_type": "code",
   "execution_count": 7,
   "metadata": {},
   "outputs": [
    {
     "name": "stdout",
     "output_type": "stream",
     "text": [
      "Collecting faiss-cpu\n",
      "  Using cached faiss_cpu-1.8.0.post1-cp310-cp310-win_amd64.whl (14.6 MB)\n",
      "Requirement already satisfied: packaging in d:\\projects folder\\langchain_series\\venv\\lib\\site-packages (from faiss-cpu) (24.1)\n",
      "Requirement already satisfied: numpy<2.0,>=1.0 in d:\\projects folder\\langchain_series\\venv\\lib\\site-packages (from faiss-cpu) (1.26.4)\n",
      "Installing collected packages: faiss-cpu\n",
      "Successfully installed faiss-cpu-1.8.0.post1\n"
     ]
    },
    {
     "name": "stderr",
     "output_type": "stream",
     "text": [
      "WARNING: You are using pip version 21.2.4; however, version 24.2 is available.\n",
      "You should consider upgrading via the 'D:\\Projects Folder\\LangChain_Series\\venv\\Scripts\\python.exe -m pip install --upgrade pip' command.\n"
     ]
    }
   ],
   "source": [
    "#!pip install faiss-cpu"
   ]
  },
  {
   "cell_type": "markdown",
   "metadata": {},
   "source": [
    "DOCUMENT LOADING FROM DIFFERENT SOURCES"
   ]
  },
  {
   "cell_type": "code",
   "execution_count": 15,
   "metadata": {},
   "outputs": [
    {
     "data": {
      "text/plain": [
       "[Document(metadata={'source': 'text.txt'}, page_content='LangChain is a framework designed to simplify the creation of applications using large language models (LLMs). As a language model integration framework, LangChain\\'s use-cases largely overlap with those of language models in general, including document analysis and summarization, chatbots, and code analysis.[2]\\n\\nHistory\\nLangChain was launched in October 2022 as an open source project by Harrison Chase, while working at machine learning startup Robust Intelligence. The project quickly garnered popularity,[3] with improvements from hundreds of contributors on GitHub, trending discussions on Twitter, lively activity on the project\\'s Discord server, many YouTube tutorials, and meetups in San Francisco and London. In April 2023, LangChain had incorporated and the new startup raised over $20 million in funding at a valuation of at least $200 million from venture firm Sequoia Capital, a week after announcing a $10 million seed investment from Benchmark.[4][5]\\n\\nIn the third quarter of 2023, the LangChain Expression Language (LCEL) was introduced, which provides a declarative way to define chains of actions.[6][7]\\n\\nIn October 2023 LangChain introduced LangServe, a deployment tool to host LCEL code as a production-ready API.\\n\\nCapabilities\\nLangChain\\'s developers highlight the framework\\'s applicability to use-cases including chatbots,[9] retrieval-augmented generation,[10] document summarization,[11] and synthetic data generation.[12]\\n\\nAs of March 2023, LangChain included integrations with systems including Amazon, Google, and Microsoft Azure cloud storage; API wrappers for news, movie information, and weather; Bash for summarization, syntax and semantics checking, and execution of shell scripts; multiple web scraping subsystems and templates; few-shot learning prompt generation support; finding and summarizing \"todo\" tasks in code; Google Drive documents, spreadsheets, and presentations summarization, extraction, and creation; Google Search and Microsoft Bing web search; OpenAI, Anthropic, and Hugging Face language models; iFixit repair guides and wikis search and summarization; MapReduce for question answering, combining documents, and question generation; N-gram overlap scoring; PyPDF, pdfminer, fitz, and pymupdf for PDF file text extraction and manipulation; Python and JavaScript code generation, analysis, and debugging; Milvus vector database[13] to store and retrieve vector embeddings; Weaviate vector database[14] to cache embedding and data objects; Redis cache database storage; Python RequestsWrapper and other methods for API requests; SQL and NoSQL databases including JSON support; Streamlit, including for logging; text mapping for k-nearest neighbors search; time zone conversion and calendar operations; tracing and recording stack symbols in threaded and asynchronous subprocess runs; and the Wolfram Alpha website and SDK.[15] As of April 2023, it can read from more than 50 document types and data sources.')]"
      ]
     },
     "execution_count": 15,
     "metadata": {},
     "output_type": "execute_result"
    }
   ],
   "source": [
    "## Data Ingestion\n",
    "from langchain_community.document_loaders import TextLoader\n",
    "loader=TextLoader(\"text.txt\")\n",
    "text_documents=loader.load()\n",
    "text_documents"
   ]
  },
  {
   "cell_type": "code",
   "execution_count": 2,
   "metadata": {},
   "outputs": [
    {
     "name": "stderr",
     "output_type": "stream",
     "text": [
      "USER_AGENT environment variable not set, consider setting it to identify your requests.\n"
     ]
    }
   ],
   "source": [
    "# web based loader\n",
    "from langchain_community.document_loaders import WebBaseLoader\n",
    "import bs4\n",
    "\n",
    "## load,chunk and index the content of the html page\n",
    "\n",
    "loader=WebBaseLoader(web_paths=(\"https://en.wikipedia.org/wiki/LangChain\",),\n",
    "                     bs_kwargs=dict(parse_only=bs4.SoupStrainer(\n",
    "                         class_=(\"mw-page-container\",\"post-title\",\"post-content\",\"post-header\") # classnames you want to read content of in the webpage\n",
    "\n",
    "                     )))\n",
    "\n",
    "text_documents=loader.load()"
   ]
  },
  {
   "cell_type": "code",
   "execution_count": 3,
   "metadata": {},
   "outputs": [
    {
     "data": {
      "text/plain": [
       "[Document(metadata={'source': 'https://en.wikipedia.org/wiki/LangChain'}, page_content='\\n\\n\\n\\n\\n\\n\\n\\n\\n\\n\\n\\n\\n\\n\\n\\n\\n\\n\\nContents\\nmove to sidebar\\nhide\\n\\n\\n\\n\\n(Top)\\n\\n\\n\\n\\n\\n1\\nHistory\\n\\n\\n\\n\\n\\n\\n\\n\\n2\\nCapabilities\\n\\n\\n\\n\\n\\n\\n\\n\\n3\\nLangChain tools\\n\\n\\n\\n\\n\\n\\n\\n\\n4\\nReferences\\n\\n\\n\\n\\n\\n\\n\\n\\n5\\nExternal links\\n\\n\\n\\n\\n\\n\\n\\n\\n\\n\\n\\n\\n\\n\\n\\n\\n\\n\\nToggle the table of contents\\n\\n\\n\\n\\n\\n\\n\\nLangChain\\n\\n\\n\\n7 languages\\n\\n\\n\\n\\nفارسی한국어हिन्दी日本語PortuguêsTürkçe中文\\n\\nEdit links\\n\\n\\n\\n\\n\\n\\n\\n\\n\\n\\n\\nArticleTalk\\n\\n\\n\\n\\n\\nEnglish\\n\\n\\n\\n\\n\\n\\n\\n\\n\\n\\n\\n\\n\\n\\n\\n\\n\\nReadEditView history\\n\\n\\n\\n\\n\\n\\n\\nTools\\n\\n\\n\\n\\n\\nTools\\nmove to sidebar\\nhide\\n\\n\\n\\n\\t\\tActions\\n\\t\\n\\n\\nReadEditView history\\n\\n\\n\\n\\n\\n\\t\\tGeneral\\n\\t\\n\\n\\nWhat links hereRelated changesUpload fileSpecial pagesPermanent linkPage informationCite this pageGet shortened URLDownload QR codeWikidata item\\n\\n\\n\\n\\n\\n\\t\\tPrint/export\\n\\t\\n\\n\\nDownload as PDFPrintable version\\n\\n\\n\\n\\n\\n\\n\\n\\n\\n\\n\\n\\n\\n\\n\\n\\n\\n\\n\\n\\n\\nAppearance\\nmove to sidebar\\nhide\\n\\n\\n\\n\\n\\n\\n\\n\\n\\n\\nFrom Wikipedia, the free encyclopedia\\n\\n\\nLanguage model application development framework\\nLangChainDeveloper(s)Harrison ChaseInitial releaseOctober 2022Stable release0.1.16[1]\\n   / 11 April 2024; 4 months ago\\xa0(11 April 2024)\\nRepositorygithub.com/langchain-ai/langchainWritten inPython and JavaScriptTypeSoftware framework for large language model application developmentLicenseMIT LicenseWebsiteLangChain.com\\nLangChain is a framework designed to simplify the creation of applications using large language models (LLMs). As a language model integration framework, LangChain\\'s use-cases largely overlap with those of language models in general, including document analysis and summarization, chatbots, and code analysis.[2]\\n\\n\\nHistory[edit]\\nLangChain was launched in October 2022 as an open source project by Harrison Chase, while working at machine learning startup Robust Intelligence. The project quickly garnered popularity,[3] with improvements from hundreds of contributors on GitHub, trending discussions on Twitter, lively activity on the project\\'s Discord server, many YouTube tutorials, and meetups in San Francisco and London. In April 2023, LangChain had incorporated and the new startup raised over $20 million in funding at a valuation of at least $200 million from venture firm Sequoia Capital, a week after announcing a $10 million seed investment from Benchmark.[4][5]\\nIn the third quarter of 2023, the LangChain Expression Language (LCEL) was introduced, which provides a declarative way to define chains of actions.[6][7]\\nIn October 2023 LangChain introduced LangServe, a deployment tool to host LCEL code as a production-ready API.[8]\\n\\nCapabilities[edit]\\nLangChain\\'s developers highlight the framework\\'s applicability to use-cases including chatbots,[9] retrieval-augmented generation,[10]  document summarization,[11] and synthetic data generation.[12]\\nAs of March 2023, LangChain included integrations with systems including Amazon, Google, and Microsoft Azure cloud storage; API wrappers for news, movie information, and weather; Bash for summarization, syntax and semantics checking, and execution of shell scripts; multiple web scraping subsystems and templates; few-shot learning prompt generation support; finding and summarizing \"todo\" tasks in code; Google Drive documents, spreadsheets, and presentations summarization, extraction, and creation; Google Search and Microsoft Bing web search; OpenAI, Anthropic, and Hugging Face language models; iFixit repair guides and wikis search and summarization; MapReduce for question answering, combining documents, and question generation; N-gram overlap scoring; PyPDF, pdfminer, fitz, and pymupdf for PDF file text extraction and manipulation; Python and JavaScript code generation, analysis, and debugging; Milvus vector database[13] to store and retrieve vector embeddings; Weaviate vector database[14] to cache embedding and data objects; Redis cache database storage; Python RequestsWrapper and other methods for API requests; SQL and NoSQL databases including JSON support; Streamlit, including for logging; text mapping for k-nearest neighbors search; time zone conversion and calendar operations; tracing and recording stack symbols in threaded and asynchronous subprocess runs; and the Wolfram Alpha website and SDK.[15] As of April 2023, it can read from more than 50 document types and data sources.[16]\\n\\nLangChain tools[edit]\\n\\n\\n\\n\\nTool name\\n\\nAccount required?\\n\\nAPI key required?\\n\\nLicencing\\n\\nFeatures\\n\\nDocumentation URL\\n\\n\\nAlpha  Vantage\\n\\nNo\\n\\nYes\\n\\nProprietary\\n\\nFinancial data, analytics\\n\\nhttps://python.langchain.com/docs/integrations/tools/alpha_vantage\\n\\n\\nApify\\n\\nNo\\n\\nYes\\n\\nCommercial\\n\\nWeb scraping, automation\\n\\nhttps://python.langchain.com/docs/integrations/tools/apify\\n\\n\\nArXiv\\n\\nNo\\n\\nNo\\n\\nOpen  Source\\n\\nScientific  papers, research\\n\\nhttps://python.langchain.com/docs/integrations/tools/arxiv\\n\\n\\nAWS  Lambda\\n\\nYes\\n\\nYes\\n\\nProprietary\\n\\nServerless  computing\\n\\nhttps://python.langchain.com/docs/integrations/tools/awslambda\\n\\n\\nBash\\n\\nNo\\n\\nNo\\n\\nOpen  source\\n\\nShell environment access\\n\\nhttps://python.langchain.com/docs/integrations/tools/bash\\n\\n\\nBearly Code Interpreter\\n\\nNo\\n\\nYes\\n\\nCommercial\\n\\nRemote Python code execution\\n\\nhttps://python.langchain.com/docs/integrations/tools/bearly\\n\\n\\nBing Search\\n\\nNo\\n\\nYes\\n\\nProprietary\\n\\nSearch engine\\n\\nhttps://python.langchain.com/docs/integrations/tools/bing_search\\n\\n\\nBrave Search\\n\\nNo\\n\\nNo\\n\\nOpen  source\\n\\nPrivacy-focused  search\\n\\nhttps://python.langchain.com/docs/integrations/tools/brave_search\\n\\n\\nChatGPT Plugins\\n\\nNo\\n\\nYes\\n\\nProprietary\\n\\nChatGPT\\n\\nhttps://python.langchain.com/docs/integrations/tools/chatgpt_plugins\\n\\n\\nConnery\\n\\nNo\\n\\nYes\\n\\nCommercial\\n\\nAPI actions\\n\\nhttps://python.langchain.com/docs/integrations/tools/connery\\n\\n\\nDall-E Image Generator\\n\\nNo\\n\\nYes\\n\\nProprietary\\n\\nText-to-image  generation\\n\\nhttps://python.langchain.com/docs/integrations/tools/dalle_image_generator\\n\\n\\nDataForSEO\\n\\nNo\\n\\nYes\\n\\nCommercial\\n\\nSEO data, analytics\\n\\nhttps://python.langchain.com/docs/integrations/tools/dataforseo\\n\\n\\nDuckDuckGo  Search\\n\\nNo\\n\\nNo\\n\\nOpen  source\\n\\nPrivacy-focused search\\n\\nhttps://python.langchain.com/docs/integrations/tools/ddg\\n\\n\\nE2B Data Analysis\\n\\nNo\\n\\nNo\\n\\nOpen  source\\n\\nData analysis\\n\\nhttps://python.langchain.com/docs/integrations/tools/e2b_data_analysis\\n\\n\\nEden AI\\n\\nNo\\n\\nYes\\n\\nCommercial\\n\\nAI tools, APIs\\n\\nhttps://python.langchain.com/docs/integrations/tools/edenai_tools\\n\\n\\nEleven Labs Text2Speech\\n\\nNo\\n\\nYes\\n\\nCommercial\\n\\nText-to-speech\\n\\nhttps://python.langchain.com/docs/integrations/tools/eleven_labs_tts\\n\\n\\nExa Search\\n\\nNo\\n\\nYes\\n\\nCommercial\\n\\nWeb search\\n\\nhttps://python.langchain.com/docs/integrations/tools/exa_search\\n\\n\\nFile System\\n\\nNo\\n\\nNo\\n\\nOpen  source\\n\\nFile system interaction\\n\\nhttps://python.langchain.com/docs/integrations/tools/filesystem\\n\\n\\nGolden Query\\n\\nNo\\n\\nYes\\n\\nCommercial\\n\\nNatural  language queries\\n\\nhttps://python.langchain.com/docs/integrations/tools/golden_query\\n\\n\\nGoogle Cloud Text-to-Speech\\n\\nYes\\n\\nYes\\n\\nProprietary\\n\\nText-to-speech\\n\\nhttps://python.langchain.com/docs/integrations/tools/google_cloud_texttospeech\\n\\n\\nGoogle Drive\\n\\nYes\\n\\nYes\\n\\nProprietary\\n\\nGoogle Drive access\\n\\nhttps://python.langchain.com/docs/integrations/tools/google_drive\\n\\n\\nGoogle Finance\\n\\nYes\\n\\nYes\\n\\nProprietary\\n\\nFinancial data\\n\\nhttps://python.langchain.com/docs/integrations/tools/google_finance\\n\\n\\nGoogle Jobs\\n\\nYes\\n\\nYes\\n\\nProprietary\\n\\nJob search\\n\\nhttps://python.langchain.com/docs/integrations/tools/google_jobs\\n\\n\\nGoogle Lens\\n\\nYes\\n\\nYes\\n\\nProprietary\\n\\nVisual  search, recognition\\n\\nhttps://python.langchain.com/docs/integrations/tools/google_lens\\n\\n\\nGoogle Places\\n\\nYes\\n\\nYes\\n\\nProprietary\\n\\nLocation-based  services\\n\\nhttps://python.langchain.com/docs/integrations/tools/google_places\\n\\n\\nGoogle Scholar\\n\\nYes\\n\\nYes\\n\\nProprietary\\n\\nScholarly  article search\\n\\nhttps://python.langchain.com/docs/integrations/tools/google_scholar\\n\\n\\nGoogle Search\\n\\nYes\\n\\nYes\\n\\nProprietary\\n\\nSearch engine\\n\\nhttps://python.langchain.com/docs/integrations/tools/google_search\\n\\n\\nGoogle Serper\\n\\nNo\\n\\nYes\\n\\nCommercial\\n\\nSERP scraping\\n\\nhttps://python.langchain.com/docs/integrations/tools/google_serper\\n\\n\\nGoogle Trends\\n\\nYes\\n\\nYes\\n\\nProprietary\\n\\nTrend data\\n\\nhttps://python.langchain.com/docs/integrations/tools/google_trends\\n\\n\\nGradio\\n\\nNo\\n\\nNo\\n\\nOpen  source\\n\\nMachine learning UIs\\n\\nhttps://python.langchain.com/docs/integrations/tools/gradio_tools\\n\\n\\nGraphQL\\n\\nNo\\n\\nNo\\n\\nOpen  source\\n\\nAPI queries\\n\\nhttps://python.langchain.com/docs/integrations/tools/graphql\\n\\n\\nHuggingFace  Hub\\n\\nNo\\n\\nNo\\n\\nOpen  source\\n\\nHugging Face models, datasets\\n\\nhttps://python.langchain.com/docs/integrations/tools/huggingface_tools\\n\\n\\nHuman as a tool\\n\\nNo\\n\\nNo\\n\\nN/A\\n\\nHuman input\\n\\nhttps://python.langchain.com/docs/integrations/tools/human_tools\\n\\n\\nIFTTT WebHooks\\n\\nNo\\n\\nYes\\n\\nCommercial\\n\\nWeb service automation\\n\\nhttps://python.langchain.com/docs/integrations/tools/ifttt\\n\\n\\nIonic Shopping\\n\\nNo\\n\\nYes\\n\\nCommercial\\n\\nShopping\\n\\nhttps://python.langchain.com/docs/integrations/tools/ionic_shopping\\n\\n\\nLemon Agent\\n\\nNo\\n\\nYes\\n\\nCommercial\\n\\nLemon AI interaction\\n\\nhttps://python.langchain.com/docs/integrations/tools/lemonai\\n\\n\\nMemorize\\n\\nNo\\n\\nNo\\n\\nOpen  source\\n\\nFine-tune LLM to memorize information using unsupervised learning\\n\\nhttps://python.langchain.com/docs/integrations/tools/memorize\\n\\n\\nNuclia\\n\\nNo\\n\\nYes\\n\\nCommercial\\n\\nIndexing of unstructured data\\n\\nhttps://python.langchain.com/docs/integrations/tools/nuclia\\n\\n\\nOpenWeatherMap\\n\\nNo\\n\\nYes\\n\\nCommercial\\n\\nWeather data\\n\\nhttps://python.langchain.com/docs/integrations/tools/openweathermap\\n\\n\\nPolygon Stock Market API\\n\\nNo\\n\\nYes\\n\\nCommercial\\n\\nStock market data\\n\\nhttps://python.langchain.com/docs/integrations/tools/polygon\\n\\n\\nPubMed\\n\\nNo\\n\\nNo\\n\\nOpen  source\\n\\nBiomedical  literature\\n\\nhttps://python.langchain.com/docs/integrations/tools/pubmed\\n\\n\\nPython REPL\\n\\nNo\\n\\nNo\\n\\nOpen  source\\n\\nPython shell\\n\\nhttps://python.langchain.com/docs/integrations/tools/python\\n\\n\\nReddit Search\\n\\nNo\\n\\nNo\\n\\nOpen  source\\n\\nReddit search\\n\\nhttps://python.langchain.com/docs/integrations/tools/reddit_search\\n\\n\\nRequests\\n\\nNo\\n\\nNo\\n\\nOpen  source\\n\\nHTTP requests\\n\\nhttps://python.langchain.com/docs/integrations/tools/requests\\n\\n\\nSceneXplain\\n\\nNo\\n\\nNo\\n\\nOpen  source\\n\\nModel explanations\\n\\nhttps://python.langchain.com/docs/integrations/tools/sceneXplain\\n\\n\\nSearch\\n\\nNo\\n\\nNo\\n\\nOpen  source\\n\\nQuery various search services\\n\\nhttps://python.langchain.com/docs/integrations/tools/search_tools\\n\\n\\nSearchApi\\n\\nNo\\n\\nYes\\n\\nCommercial\\n\\nQuery various search services\\n\\nhttps://python.langchain.com/docs/integrations/tools/searchapi\\n\\n\\nSearxNG\\n\\nNo\\n\\nNo\\n\\nOpen  source\\n\\nPrivacy-focused  search\\n\\nhttps://python.langchain.com/docs/integrations/tools/searx_search\\n\\n\\nSemantic Scholar API\\n\\nNo\\n\\nNo\\n\\nOpen  source\\n\\nAcademic  paper search\\n\\nhttps://python.langchain.com/docs/integrations/tools/semanticscholar\\n\\n\\nSerpAPI\\n\\nNo\\n\\nYes\\n\\nCommercial\\n\\nSearch engine results page scraping\\n\\nhttps://python.langchain.com/docs/integrations/tools/serpapi\\n\\n\\nStackExchange\\n\\nNo\\n\\nNo\\n\\nOpen  source\\n\\nStack  Exchange access\\n\\nhttps://python.langchain.com/docs/integrations/tools/stackexchange\\n\\n\\nTavily Search\\n\\nNo\\n\\nYes\\n\\nCommercial\\n\\nQuestion  answering\\n\\nhttps://python.langchain.com/docs/integrations/tools/tavily_search\\n\\n\\nTwilio\\n\\nNo\\n\\nYes\\n\\nCommercial\\n\\nCommunication  APIs\\n\\nhttps://python.langchain.com/docs/integrations/tools/twilio\\n\\n\\nWikidata\\n\\nNo\\n\\nNo\\n\\nOpen  source\\n\\nStructured  data access\\n\\nhttps://python.langchain.com/docs/integrations/tools/wikidata\\n\\n\\nWikipedia\\n\\nNo\\n\\nNo\\n\\nOpen  source\\n\\nWikipedia  access\\n\\nhttps://python.langchain.com/docs/integrations/tools/wikipedia\\n\\n\\nWolfram Alpha\\n\\nNo\\n\\nYes\\n\\nProprietary\\n\\nComputational  knowledge\\n\\nhttps://python.langchain.com/docs/integrations/tools/wolfram_alpha\\n\\n\\nYahoo Finance News\\n\\nNo\\n\\nYes\\n\\nCommercial\\n\\nFinancial news\\n\\nhttps://python.langchain.com/docs/integrations/tools/yahoo_finance_news\\n\\n\\nYoutube\\n\\nNo\\n\\nYes\\n\\nCommercial\\n\\nYouTube  access\\n\\nhttps://python.langchain.com/docs/integrations/tools/youtube\\n\\n\\nZapier Natural Language Actions\\n\\nNo\\n\\nYes\\n\\nCommercial\\n\\nWorkflow  automation\\n\\nhttps://python.langchain.com/docs/integrations/tools/zapier\\n\\n\\n\\nReferences[edit]\\n\\n\\n^ \"Release 0.1.16\". 11 April 2024. Retrieved 23 April 2024.\\n\\n^ Buniatyan, Davit (2023). \"Code Understanding Using LangChain\". Activeloop.\\n\\n^ Auffarth, Ben (2023). Generative AI with LangChain. Birmingham: Packt Publishing. p.\\xa083. ISBN\\xa09781835083468.\\n\\n^ Palazzolo, Stephanie (2023-04-13). \"AI startup LangChain taps Sequoia to lead funding round at a valuation of at least $200 million\". Business Insider. Archived from the original on 2023-04-18. Retrieved 2023-04-18.\\n\\n^ Griffith, Erin; Metz, Cade (2023-03-14). \"\\'Let 1,000 Flowers Bloom\\': A.I. Funding Frenzy Escalates\". The New York Times. ISSN\\xa00362-4331. Archived from the original on 2023-04-18. Retrieved 2023-04-18.\\n\\n^ Mansurova, Mariya (2023-10-30). \"Topic Modelling in production: Leveraging LangChain to move from ad-hoc Jupyter Notebooks to production modular service\". towardsdatascience.com. Retrieved 2024-07-08.\\n\\n^ \"LangChain Expression Language\". langchain.dev. 2023-08-01. Retrieved 2024-07-08.\\n\\n^ \"Introducing LangServe, the best way to deploy your LangChains\". LangChain Blog. 2023-10-12. Retrieved 2023-10-17.\\n\\n^ \"Chatbots | 🦜️🔗 Langchain\". python.langchain.com. Retrieved 2023-11-26.\\n\\n^ \"Retrieval-augmented generation (RAG) | 🦜️🔗 Langchain\". python.langchain.com. Retrieved 2023-11-26.\\n\\n^ \"Summarization | 🦜️🔗 Langchain\". python.langchain.com. Retrieved 2023-11-26.\\n\\n^ \"Synthetic data generation | 🦜️🔗 Langchain\". python.langchain.com. Retrieved 2023-11-26.\\n\\n^ \"Milvus — LangChain\". python.langchain.com. Retrieved 2023-10-29.\\n\\n^ \"Weaviate\". python.langchain.com. Retrieved 2024-01-17.\\n\\n^ Hug, Daniel Patrick (2023-03-08). \"Hierarchical topic tree of LangChain\\'s integrations\" (PDF). GitHub. Archived from the original on 2023-04-29. Retrieved 2023-04-18.\\n\\n^ \"Document Loaders — LangChain 0.0.142\". python.langchain.com. Archived from the original on 2023-04-18. Retrieved 2023-04-18.\\n\\n\\nExternal links[edit]\\n\\n\\n\\nWikidata has data related to LangChain.\\n\\nOfficial website\\nDiscord server support hub\\nLangchain-ai on GitHub\\nvteOpenAIProducts\\nChatGPT\\nin education\\nDALL-E\\nGitHub Copilot\\nOpenAI Five\\nSora\\nWhisper\\nFoundation models\\nOpenAI Codex\\nGenerative pre-trained transformer\\nGPT-1\\nGPT-2\\nGPT-3\\nGPT-4\\nGPT-4o\\nPeopleCEOs\\nSam Altman\\nremoval\\nMira Murati\\nEmmett Shear\\nBoard of directorsCurrent\\nSam Altman\\nAdam D\\'Angelo\\nSue Desmond-Hellmann\\nPaul Nakasone\\nNicole Seligman\\nFidji Simo\\nLarry Summers\\nBret Taylor\\nFormer\\nGreg Brockman (2017–2023)\\nReid Hoffman (2019–2023)\\nWill Hurd (2021–2023)\\nHolden Karnofsky (2017–2021)\\nElon Musk (2015–2018)\\nIlya Sutskever (2017–2023)\\nHelen Toner (2021–2023)\\nShivon Zilis (2019–2023)\\nRelated\\nAI Dungeon\\nAuto-GPT\\n\"Deep Learning\"\\nLangChain\\nMicrosoft Copilot\\n\\n Category\\n\\nvteDifferentiable computingGeneral\\nDifferentiable programming\\nInformation geometry\\nStatistical manifold\\nAutomatic differentiation\\nNeuromorphic engineering\\nPattern recognition\\nTensor calculus\\nComputational learning theory\\nInductive bias\\nConcepts\\nGradient descent\\nSGD\\nClustering\\nRegression\\nOverfitting\\nHallucination\\nAdversary\\nAttention\\nConvolution\\nLoss functions\\nBackpropagation\\nBatchnorm\\nActivation\\nSoftmax\\nSigmoid\\nRectifier\\nRegularization\\nDatasets\\nAugmentation\\nDiffusion\\nAutoregression\\nApplications\\nMachine learning\\nIn-context learning\\nArtificial neural network\\nDeep learning\\nScientific computing\\nArtificial Intelligence\\nLanguage model\\nLarge language model\\nHardware\\nIPU\\nTPU\\nVPU\\nMemristor\\nSpiNNaker\\nSoftware libraries\\nTensorFlow\\nPyTorch\\nKeras\\nTheano\\nJAX\\nFlux.jl\\nMindSpore\\nImplementationsAudio–visual\\nAlexNet\\nWaveNet\\nHuman image synthesis\\nHWR\\nOCR\\nSpeech synthesis\\nSpeech recognition\\nFacial recognition\\nAlphaFold\\nText-to-image models\\nDALL-E\\nMidjourney\\nStable Diffusion\\nText-to-video models\\nSora\\nVideoPoet\\nWhisper\\nVerbal\\nWord2vec\\nSeq2seq\\nBERT\\nGemini\\nLaMDA\\nBard\\nNMT\\nProject Debater\\nIBM Watson\\nIBM Watsonx\\nGranite\\nGPT-1\\nGPT-2\\nGPT-3\\nGPT-4\\nChatGPT\\nGPT-J\\nChinchilla AI\\nPaLM\\nBLOOM\\nLLaMA\\nPanGu-Σ\\nDecisional\\nAlphaGo\\nAlphaZero\\nQ-learning\\nSARSA\\nOpenAI Five\\nSelf-driving car\\nMuZero\\nAction selection\\nAuto-GPT\\nRobot control\\nPeople\\nYoshua Bengio\\nAlex Graves\\nIan Goodfellow\\nStephen Grossberg\\nDemis Hassabis\\nGeoffrey Hinton\\nYann LeCun\\nFei-Fei Li\\nAndrew Ng\\nJürgen Schmidhuber\\nDavid Silver\\nIlya Sutskever\\nOrganizations\\nAnthropic\\nEleutherAI\\nGoogle DeepMind\\nHugging Face\\nOpenAI\\nMeta AI\\nMila\\nMIT CSAIL\\nHuawei\\nArchitectures\\nNeural Turing machine\\nDifferentiable neural computer\\nTransformer\\nRecurrent neural network (RNN)\\nLong short-term memory (LSTM)\\nGated recurrent unit (GRU)\\nEcho state network\\nMultilayer perceptron (MLP)\\nConvolutional neural network\\nResidual neural network\\nMamba\\nAutoencoder\\nVariational autoencoder (VAE)\\nGenerative adversarial network (GAN)\\nGraph neural network\\n\\n Portals\\nComputer programming\\nTechnology\\n Categories\\nArtificial neural networks\\nMachine learning\\n\\n\\n\\n\\n\\nRetrieved from \"https://en.wikipedia.org/w/index.php?title=LangChain&oldid=1239269811\"\\nCategories: Artificial intelligenceLarge language modelsSoftware frameworks2022 softwareHidden categories: Articles with short descriptionShort description matches WikidataPages using Sister project links with hidden wikidata\\n\\n\\n\\n\\n\\n\\n This page was last edited on 8 August 2024, at 09:51\\xa0(UTC).\\nText is available under the Creative Commons Attribution-ShareAlike License 4.0;\\nadditional terms may apply. By using this site, you agree to the Terms of Use and Privacy Policy. Wikipedia® is a registered trademark of the Wikimedia Foundation, Inc., a non-profit organization.\\n\\n\\nPrivacy policy\\nAbout Wikipedia\\nDisclaimers\\nContact Wikipedia\\nCode of Conduct\\nDevelopers\\nStatistics\\nCookie statement\\nMobile view\\n\\n\\n\\n\\n\\n\\n\\n\\n')]"
      ]
     },
     "execution_count": 3,
     "metadata": {},
     "output_type": "execute_result"
    }
   ],
   "source": [
    "text_documents"
   ]
  },
  {
   "cell_type": "code",
   "execution_count": 1,
   "metadata": {},
   "outputs": [],
   "source": [
    "## Pdf reader\n",
    "from langchain_community.document_loaders import PyPDFLoader\n",
    "loader=PyPDFLoader('mental_health.pdf')\n",
    "docs=loader.load()"
   ]
  },
  {
   "cell_type": "code",
   "execution_count": 2,
   "metadata": {},
   "outputs": [
    {
     "data": {
      "text/plain": [
       "[Document(metadata={'source': 'mental_health.pdf', 'page': 0}, page_content='Mental Health\\nis for Everyone\\nPromoting Mental Health In Adults\\n'),\n",
       " Document(metadata={'source': 'mental_health.pdf', 'page': 1}, page_content='Mental Health is for Everyone2This resource is to promote \\nmental health.\\nFor crisis help:\\n•Call 911 \\n•Visit your nearest hospital emergency department\\nWhat’s Inside\\nWhat is mental health and mental illness ............................ 3\\nMental health and mental illness diagram .......................... 5\\nTransition and life events ........................................................... 6\\nMental health and mental illness examples ....................... 7\\nProtective and risk factor ........................................................... 10\\nWhat supports mental health? ................................................ 12\\nThings you can do right now to improve                              your mental health\\n....................................................................... 14'),\n",
       " Document(metadata={'source': 'mental_health.pdf', 'page': 2}, page_content='Mental Health is for Everyone3What is mental health?\\nGood mental health is important for everyone as it helps us \\ncope with life’s stresses and reach our goals. Mental health is about how we think, feel and act. When our mental health is good it helps us to get the most out of life. \\nWe all have highs and lows in our mental health. A low period \\ndoes not mean you have a mental illness. It’s normal to have feelings like anger, sadness or anxiety when facing challenges.\\nWhat is mental illness?\\nThere is a difference between mental health and mental illness. A mental illness is when a person is diagnosed with a problem that alters their thinking, mood and/or behaviour. Illnesses are linked to times when a person is distressed and their ability to function well has changed. Examples of mental illness include depression and anxiety disorder. \\nWhether or not you have an illness, knowing about mental \\nhealth and how to keep mentally healthy is important for everyone. We can all improve our mental health.'),\n",
       " Document(metadata={'source': 'mental_health.pdf', 'page': 3}, page_content='Mental Health is for Everyone41 in 5 people will have a\\nmental illness in their lifetime.\\n4 out of 5 won’t but this\\ndoesn’t mean they aredoing well mentally.\\n'),\n",
       " Document(metadata={'source': 'mental_health.pdf', 'page': 4}, page_content='Mental Health is for Everyone5\\nMental health can be gained and lost each day through our \\ninteractions, relationships and how we behave towards one another. A person may not have a mental illness but can still have poor mental health. As well, a person can have a mental illness but have good mental health. The diagram below shows how it can vary.\\nGood Men\\ntal Health\\nA person with good mental health and no mental illnessA person with good mental health and a mental illness\\nNo Mental Illness\\nA person with \\nno mental illness but poor mental health Serious Mental Illness\\nA person with a mental illness and poor mental health\\nPoor Mental Health\\n(Adapted from Centre for Addiction and Mental Health, 2014)\\n'),\n",
       " Document(metadata={'source': 'mental_health.pdf', 'page': 5}, page_content='Mental Health is for Everyone6Transition and life events\\nThere are certain times in our lives when our mental health \\nmay be more vulnerable. Some of these times are known as “transitions” and the others are “life events” .\\nTransitions \\n•Graduating school and going to post-secondary \\neducation or work\\n•Moving out on your own \\n•Pregnancy and becoming a parent\\n•Later in life with changes to family structure and retiring from work\\nLife events•Being unemployed, underemployed or experiencing work stress\\n•Experiencing loss, death of a loved one or getting divorced\\n•Having to care for someone who is dependent on you \\n•Immigrating to a new country \\n•Developing a chronic illness\\n•Experiencing and/or witnessing abuse, bullying, discrimination or violence\\nBy taking care of our mental health we can reducethe chance of de\\nveloping a mental health problem.'),\n",
       " Document(metadata={'source': 'mental_health.pdf', 'page': 6}, page_content='Mental Health is for Everyone7Here are some examples of how a person’s mental health can \\nvary:\\nMark When Mark started \\ncollege he was eager to leave home and become independent.\\nBy mid-semester Mark was \\nstruggling to keep up with his course work and he stopped going out with his friends. His parents noticed his mood had changed when he came home for the weekend. They talked with him about it and together they made a plan to visit their family doctor.\\nMark was diagnosed with \\nan anxiety disorder and got treatment. He is now able to manage his school work and spend time with his friends. \\n'),\n",
       " Document(metadata={'source': 'mental_health.pdf', 'page': 7}, page_content='Mental Health is for Everyone8\\nJessica\\nWhen Jessica became a new \\nmom she was very excited and happy. \\nWithin a few weeks Jessica was \\nvery tired from lack of sleep and feeling a little overwhelmed. Jessica’s friend noticed this and talked to her. Together they made a plan which included help from her family and friends with meals and housework.\\nWith the support of her friends \\nand family Jessica is now taking time for herself and feeling like she can manage her new role.\\n'),\n",
       " Document(metadata={'source': 'mental_health.pdf', 'page': 8}, page_content='Mental Health is for Everyone9\\nBill\\nIn his 20’s, Bill was diagnosed \\nand treated for depression and recovered. \\nBill recently lost his job with a \\ncompany he had worked at for the past 25 years. He is angry, having trouble sleeping and drinking heavily. Bill has started to have thoughts of suicide. \\nBill remembers from his previous \\nepisode of depression that there is help available and decides to call the local crisis line.   \\n'),\n",
       " Document(metadata={'source': 'mental_health.pdf', 'page': 9}, page_content='Mental Health is for Everyone10\\nProtective and risk factors\\nThere are things that can protect our mental health and things \\nthat put it at risk. Protective factors buffer a person and help reduce the chance of developing a problem. Risk factors make it more likely that a person will develop a problem.\\nProtective\\nFactors:Feeling like\\nyou belong\\nHaving\\ngood\\nphysical\\nhealth\\nBeing able\\nto solve\\nproblems\\nHaving\\nyour basic\\nneeds met\\n(safe housing,\\nstable\\nincome) Feeling in\\ncontrol of\\nyour lifeSpending\\ntime with\\npeople\\nyou enjoy \\n'),\n",
       " Document(metadata={'source': 'mental_health.pdf', 'page': 10}, page_content='Mental Health is for Everyone11\\nRisk\\nFactors\\nTraumatic\\nlife experienceChildhood\\ntrauma \\nHaving a\\nparent witha mental healthproblem orillnessHaving alcohol,drug and/orgamblingproblemsBeingisolatedand orfeelingalone \\nSome risk factors may be outside of your control, but, \\nthere are always steps you can take to reduce their effect. \\nThe key to improving mental health is to increase protective factors.'),\n",
       " Document(metadata={'source': 'mental_health.pdf', 'page': 11}, page_content='Mental Health is for Everyone12What supports mental health?\\nResiliency\\nEveryone can improve their \\nmental health by building their resilience. Resiliency is the ability to handle life’s ups and downs in positive ways and to bounce back from hard times. Making it through life’s challenges strengthens our ability to handle future stressors.\\nPhysical Health\\nMental health and physical \\nhealth are closely linked.  Long-term stress can cause health problems. Also, having a chronic illness can impact mental health. Maintaining or improving our physical health benefits overall health.'),\n",
       " Document(metadata={'source': 'mental_health.pdf', 'page': 12}, page_content='Mental Health is for Everyone13\\nEmotional Well-Being\\nWe all have many emotions. \\nPositive emotions support our mental health. When we are able to manage, express and use our emotions well, it can improve our health. \\nHealthy Coping\\nOur bodies are able to respond better to stress when we practice healthy coping. Choosing unhealthy coping methods can be harmful to your health and hinder your ability to deal with stress. \\nPositive Thinking\\nAt times, it can be a challenge to have a positive outlook when dealing with transitions and life events. Optimistic thinking has been shown to enhance our overall health.   Try to focus on the positives. Think of the things you can control and then make a plan to improve them. '),\n",
       " Document(metadata={'source': 'mental_health.pdf', 'page': 13}, page_content='Mental Health is for Everyone14Things you can do right now\\nto improve your mental health:\\nTip\\n#1\\nEat a healthy diet\\nUsing Canada’s Food \\nGuide will benefit your health. Have breakfast every day. Eat more vegetables and fruit. Drink water to quench your thirst. While grocery shopping read the Nutrition Facts table on food labels to eat healthier.\\nTip\\n#2\\nBe active\\nAdults ages 18-65+ need at least 150 minutes of physical activity each week. It can help you to feel good, reduce stress, maintain a healthier weight and lower your risk for illness. Try things that fit into your life like going for a walk, a bike ride, jogging or swimming. \\n'),\n",
       " Document(metadata={'source': 'mental_health.pdf', 'page': 14}, page_content='Mental Health is for Everyone15\\nTip\\n#3\\nGet enough sleep\\nSleep provides a time for \\nour bodies and minds to rest and restore. While needs can vary across the ages, aim to get 7-9 hours of sleep each night. Some things that may help include: having a regular routine, avoiding caffeine and alcohol, winding down with a good book or bath and keeping your room dark, cool and electronic free. \\nTip\\n#4\\nOffer to help\\nsomeone else\\nHelping others \\nbenefits you too. It can increase your feelings of well-being and being connected. Find out where there’s a need close to you (e.g. volunteer at your child’s school or a senior’s home or help a neighbour). \\n'),\n",
       " Document(metadata={'source': 'mental_health.pdf', 'page': 15}, page_content='Mental Health is for Everyone16\\nTip\\n#5\\nGet involved\\nand be creative\\nTaking part in local \\nprograms gives you a chance to create, express and connect with others. Getting involved has benefits for you and your community. Share your talents and find out what’s going on in your community (e.g. community gardens, art/ cultural events and festivals). \\nTip\\n#6\\nReview what\\nmatters to you \\nFinding purpose \\nand meaning in life promotes positive mental health. It can be a source of strength, inspiration, a means of coping with life and personal growth. This may include spiritual beliefs, religious practices, worship and/or other activities that have meaning. Take time to review what matters to you and find ways to celebrate life. \\n'),\n",
       " Document(metadata={'source': 'mental_health.pdf', 'page': 16}, page_content='Mental Health is for Everyone17\\nTip\\n#7\\nManage work stress\\nWhile work benefits our \\nmental health in many ways, it can also be a source of stress. Some things that can help manage work stress are: thinking positively, getting to know your co-workers, finding a mentor, taking your breaks, getting training, learning new skills and trying to leave work on time. \\nTip\\n#8\\nBuild and enjoy\\nhealthy relationships\\nHaving healthy \\nrelationships with a partner, family member, friend and/or co-worker can be a source of support when we feel stressed. These relationships can provide us with feelings of love, value and respect. Consider going for a coffee or a walk with a friend. Sometimes relationships can be a source of stress. It may be helpful to think of conflict as a normal part of life and try to take steps to resolve it. \\n'),\n",
       " Document(metadata={'source': 'mental_health.pdf', 'page': 17}, page_content='Mental Health is for Everyone18Most people do a good job of taking care of their mental \\nhealth; however, we all benefit when we learn the facts.\\nPromoting mental health to everyone: \\n• improves mental health• reduces stigma  • helps people to recognize risks and get help\\nIf you have concerns about yourself or someone you \\ncare about talk with a health care provider. \\nFor immediate help call 911 or visit your nearest hospital \\nemergency department.\\n'),\n",
       " Document(metadata={'source': 'mental_health.pdf', 'page': 18}, page_content='Mental Health is for Everyone19\\n'),\n",
       " Document(metadata={'source': 'mental_health.pdf', 'page': 19}, page_content='Durham Health Connection Line\\n905-666-6241 or 1-800-841-2729durham.ca\\nIf you require this information in an accessible format, \\ncontact 905-666-6241 or 1-800-841-2729June17')]"
      ]
     },
     "execution_count": 2,
     "metadata": {},
     "output_type": "execute_result"
    }
   ],
   "source": [
    "docs"
   ]
  },
  {
   "cell_type": "code",
   "execution_count": 3,
   "metadata": {},
   "outputs": [
    {
     "data": {
      "text/plain": [
       "Document(metadata={'source': 'mental_health.pdf', 'page': 1}, page_content='Mental Health is for Everyone2This resource is to promote \\nmental health.\\nFor crisis help:\\n•Call 911 \\n•Visit your nearest hospital emergency department\\nWhat’s Inside\\nWhat is mental health and mental illness ............................ 3\\nMental health and mental illness diagram .......................... 5\\nTransition and life events ........................................................... 6\\nMental health and mental illness examples ....................... 7\\nProtective and risk factor ........................................................... 10\\nWhat supports mental health? ................................................ 12\\nThings you can do right now to improve                              your mental health\\n....................................................................... 14')"
      ]
     },
     "execution_count": 3,
     "metadata": {},
     "output_type": "execute_result"
    }
   ],
   "source": [
    "docs[1]"
   ]
  },
  {
   "cell_type": "markdown",
   "metadata": {},
   "source": [
    "SPLITTING DOCUMENTS"
   ]
  },
  {
   "cell_type": "code",
   "execution_count": 4,
   "metadata": {},
   "outputs": [
    {
     "data": {
      "text/plain": [
       "[Document(metadata={'source': 'mental_health.pdf', 'page': 0}, page_content='Mental Health\\nis for Everyone\\nPromoting Mental Health In Adults'),\n",
       " Document(metadata={'source': 'mental_health.pdf', 'page': 1}, page_content='Mental Health is for Everyone2This resource is to promote \\nmental health.\\nFor crisis help:\\n•Call 911 \\n•Visit your nearest hospital emergency department\\nWhat’s Inside\\nWhat is mental health and mental illness ............................ 3\\nMental health and mental illness diagram .......................... 5\\nTransition and life events ........................................................... 6\\nMental health and mental illness examples ....................... 7\\nProtective and risk factor ........................................................... 10\\nWhat supports mental health? ................................................ 12\\nThings you can do right now to improve                              your mental health\\n....................................................................... 14'),\n",
       " Document(metadata={'source': 'mental_health.pdf', 'page': 2}, page_content='Mental Health is for Everyone3What is mental health?\\nGood mental health is important for everyone as it helps us \\ncope with life’s stresses and reach our goals. Mental health is about how we think, feel and act. When our mental health is good it helps us to get the most out of life. \\nWe all have highs and lows in our mental health. A low period \\ndoes not mean you have a mental illness. It’s normal to have feelings like anger, sadness or anxiety when facing challenges.\\nWhat is mental illness?\\nThere is a difference between mental health and mental illness. A mental illness is when a person is diagnosed with a problem that alters their thinking, mood and/or behaviour. Illnesses are linked to times when a person is distressed and their ability to function well has changed. Examples of mental illness include depression and anxiety disorder. \\nWhether or not you have an illness, knowing about mental'),\n",
       " Document(metadata={'source': 'mental_health.pdf', 'page': 2}, page_content='Whether or not you have an illness, knowing about mental \\nhealth and how to keep mentally healthy is important for everyone. We can all improve our mental health.'),\n",
       " Document(metadata={'source': 'mental_health.pdf', 'page': 3}, page_content='Mental Health is for Everyone41 in 5 people will have a\\nmental illness in their lifetime.\\n4 out of 5 won’t but this\\ndoesn’t mean they aredoing well mentally.')]"
      ]
     },
     "execution_count": 4,
     "metadata": {},
     "output_type": "execute_result"
    }
   ],
   "source": [
    "from langchain.text_splitter import RecursiveCharacterTextSplitter\n",
    "text_splitter=RecursiveCharacterTextSplitter(chunk_size=1000,chunk_overlap=200)\n",
    "documents=text_splitter.split_documents(docs)\n",
    "documents[:5]"
   ]
  },
  {
   "cell_type": "markdown",
   "metadata": {},
   "source": [
    "CREATING DOCUMENT EMBEDDINGS AND STORING IT TO VECTOR STORE"
   ]
  },
  {
   "cell_type": "code",
   "execution_count": 5,
   "metadata": {},
   "outputs": [],
   "source": [
    "## Vector Embedding And Vector Store\n",
    "from langchain_community.embeddings import OllamaEmbeddings\n",
    "from langchain_community.vectorstores import Chroma\n",
    "db = Chroma.from_documents(documents[:1],OllamaEmbeddings())"
   ]
  },
  {
   "cell_type": "code",
   "execution_count": 10,
   "metadata": {},
   "outputs": [],
   "source": [
    "## FAISS Vector Database\n",
    "from langchain_community.vectorstores import FAISS\n",
    "db = FAISS.from_documents(documents[:5], OllamaEmbeddings())"
   ]
  },
  {
   "cell_type": "markdown",
   "metadata": {},
   "source": [
    "RETIREVAL OF DOCUMENTS"
   ]
  },
  {
   "cell_type": "code",
   "execution_count": 12,
   "metadata": {},
   "outputs": [
    {
     "name": "stdout",
     "output_type": "stream",
     "text": [
      "Mental Health is for Everyone41 in 5 people will have a\n",
      "mental illness in their lifetime.\n",
      "4 out of 5 won’t but this\n",
      "doesn’t mean they aredoing well mentally.\n"
     ]
    }
   ],
   "source": [
    "query = \"What is mental health?\"\n",
    "retireved_results = db.similarity_search(query)\n",
    "print(retireved_results[0].page_content)"
   ]
  }
 ],
 "metadata": {
  "kernelspec": {
   "display_name": "venv",
   "language": "python",
   "name": "python3"
  },
  "language_info": {
   "codemirror_mode": {
    "name": "ipython",
    "version": 3
   },
   "file_extension": ".py",
   "mimetype": "text/x-python",
   "name": "python",
   "nbconvert_exporter": "python",
   "pygments_lexer": "ipython3",
   "version": "3.10.2"
  }
 },
 "nbformat": 4,
 "nbformat_minor": 2
}
